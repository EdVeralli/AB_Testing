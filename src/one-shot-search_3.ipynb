{
 "cells": [
  {
   "cell_type": "code",
   "execution_count": 1,
   "id": "06aebbb4-d5d4-4ab7-8257-d70dfe85a949",
   "metadata": {},
   "outputs": [],
   "source": [
    "import pandas as pd\n",
    "import numpy as np\n",
    "from datetime import datetime, timezone, timedelta\n",
    "from matplotlib import pyplot as plt \n",
    "import math\n",
    "import scipy\n",
    "import pickle as pkl\n",
    "import re\n",
    "import datetime\n",
    "pd.set_option(\"display.max_colwidth\", None)\n",
    "import warnings\n",
    "warnings.filterwarnings('ignore')"
   ]
  },
  {
   "cell_type": "markdown",
   "id": "200dbd36-6082-4197-92d6-35fdb98ebc07",
   "metadata": {
    "tags": []
   },
   "source": [
    "### carga dataframes"
   ]
  },
  {
   "cell_type": "code",
   "execution_count": 105,
   "id": "b54a6f3f-9411-431f-89cc-9961ea411db3",
   "metadata": {},
   "outputs": [],
   "source": [
    "# usuarios que mandaron @test_on @test_off @reset_user\n",
    "testers=pd.read_csv('testers.csv')\n",
    "#testers=testers.f0_.values"
   ]
  },
  {
   "cell_type": "code",
   "execution_count": 106,
   "id": "0ab97d03-919e-4aa9-a582-1b8547f25806",
   "metadata": {},
   "outputs": [],
   "source": [
    "rule_ne='PLBWX5XYGQ2B3GP7IN8Q-nml045fna3@b.m-1669990832420'"
   ]
  },
  {
   "cell_type": "code",
   "execution_count": 107,
   "id": "fac5b7c7-5f15-487b-86b2-554780ae902e",
   "metadata": {},
   "outputs": [],
   "source": [
    "mm=pd.read_csv('AB_Testing_boti_MENSAJES.csv')"
   ]
  },
  {
   "cell_type": "raw",
   "id": "fb88f02f-5fd5-46fe-a4e7-1e29a104a93e",
   "metadata": {},
   "source": [
    "Hora y dia del deploy one shot:\n",
    "08/01 - 10:05 a.m.\n",
    "Cambio de constante al 20%: \n",
    "10/01 - 11:52 a.m.\n",
    "\n",
    "Cambio al 40%:\n",
    "16/01 - 9:30 a.m."
   ]
  },
  {
   "cell_type": "code",
   "execution_count": 108,
   "id": "9977d9fc-bf90-4223-8bba-3597e708b947",
   "metadata": {},
   "outputs": [],
   "source": [
    "mm.creation_time=pd.to_datetime(mm.creation_time)"
   ]
  },
  {
   "cell_type": "code",
   "execution_count": 109,
   "id": "0c928698-db5f-4e92-8422-5c3fcb438360",
   "metadata": {
    "tags": []
   },
   "outputs": [],
   "source": [
    "mm1=mm[np.logical_or(mm.vars_value<21, np.logical_and(mm.vars_value<41, mm.creation_time>=np.datetime64('2024-01-10 14:52:00')))]"
   ]
  },
  {
   "cell_type": "code",
   "execution_count": 110,
   "id": "c792ea07-1c9d-4fd2-ba71-0be775ca5901",
   "metadata": {},
   "outputs": [],
   "source": [
    "mm2=mm[~np.logical_or(mm.vars_value<21, np.logical_and(mm.vars_value<41, mm.creation_time>=np.datetime64('2024-01-10 14:52:00')))]"
   ]
  },
  {
   "cell_type": "code",
   "execution_count": 111,
   "id": "ca9837fe-099d-46bf-aeb3-825a34f81d8e",
   "metadata": {},
   "outputs": [
    {
     "data": {
      "text/plain": [
       "2937"
      ]
     },
     "execution_count": 111,
     "metadata": {},
     "output_type": "execute_result"
    }
   ],
   "source": [
    "mm1.rule_name.nunique()"
   ]
  },
  {
   "cell_type": "code",
   "execution_count": 112,
   "id": "ee209885-df77-4989-a5b8-e4c352060622",
   "metadata": {},
   "outputs": [
    {
     "data": {
      "text/plain": [
       "3856"
      ]
     },
     "execution_count": 112,
     "metadata": {},
     "output_type": "execute_result"
    }
   ],
   "source": [
    "mm2.rule_name.nunique()"
   ]
  },
  {
   "cell_type": "code",
   "execution_count": 113,
   "id": "07f656c9-e43c-4ede-b017-ef038a446db6",
   "metadata": {
    "collapsed": true,
    "jupyter": {
     "outputs_hidden": true
    },
    "tags": []
   },
   "outputs": [],
   "source": [
    "# Preprocesamiento de DataFrames mm1 y mm2:\n",
    "# 1. Ajusta la columna 'creation_time' convirtiéndola a formato de fecha y redondeándola al segundo más cercano.\n",
    "# 2. Elimina duplicados basándose en columnas específicas.\n",
    "# 3. Crea una nueva columna 'usuario' extrayendo los primeros 20 caracteres de 'session_id'.\n",
    "# 4. Filtra las filas donde el 'usuario' no está en la lista de 'testers'.\n",
    "# 5. Reinicia los índices para ambos DataFrames.\n",
    "\n",
    "\n",
    "mm1.creation_time=pd.to_datetime(mm1.creation_time)\n",
    "mm1.creation_time=mm1.creation_time.dt.ceil('s')\n",
    "mm1.drop_duplicates(['session_id', 'creation_time', 'msg_from', 'rule_name'], inplace=True)\n",
    "mm2.creation_time=pd.to_datetime(mm2.creation_time)\n",
    "mm2.creation_time=mm2.creation_time.dt.ceil('s')\n",
    "mm2.drop_duplicates(['session_id', 'creation_time', 'msg_from', 'rule_name'], inplace=True)\n",
    "mm1['usuario']=mm1.session_id.str[:20]\n",
    "mm2['usuario']=mm2.session_id.str[:20]\n",
    "mm1=mm1[~mm1.usuario.isin(testers)]\n",
    "mm2=mm2[~mm2.usuario.isin(testers)]\n",
    "mm1.reset_index(inplace=True, drop=True)\n",
    "mm2.reset_index(inplace=True, drop=True)"
   ]
  },
  {
   "cell_type": "code",
   "execution_count": 114,
   "id": "53b8e140-8cc2-4a1e-93a3-ed4f772520ee",
   "metadata": {},
   "outputs": [
    {
     "data": {
      "text/plain": [
       "154372"
      ]
     },
     "execution_count": 114,
     "metadata": {},
     "output_type": "execute_result"
    }
   ],
   "source": [
    "mm2.usuario.nunique()"
   ]
  },
  {
   "cell_type": "code",
   "execution_count": 115,
   "id": "a93018d2-3b99-471f-9e29-113f237366fe",
   "metadata": {},
   "outputs": [
    {
     "data": {
      "text/plain": [
       "29844"
      ]
     },
     "execution_count": 115,
     "metadata": {},
     "output_type": "execute_result"
    }
   ],
   "source": [
    "mm1.usuario.nunique()"
   ]
  },
  {
   "cell_type": "code",
   "execution_count": 116,
   "id": "2da8acb0-c651-443c-885b-23984fc19eb4",
   "metadata": {},
   "outputs": [],
   "source": [
    "# search + response = clicks\n",
    "\n",
    "# Procesamiento de datos del archivo 'AB_Testing_boti_CLICKS.csv':\n",
    "# 1. Lee el archivo CSV y carga los datos en el DataFrame 'search'.\n",
    "# 2. Elimina duplicados basándose en múltiples columnas especificadas.\n",
    "# 3. Convierte la columna 'ts' a formato de fecha y hora.\n",
    "# 4. Crea una nueva columna 'usuario' extrayendo los primeros 20 caracteres de 'session_id'.\n",
    "# 5. Filtra las filas donde el 'usuario' no está en la lista de 'testers'.\n",
    "# 6. Filtra las filas donde la condición 'RuleBuilder:'+mostrado es igual a 'response_intent_id' y elimina duplicados basándose en 'id'.\n",
    "# 7. Crea una nueva columna 'fecha' que contiene solo la parte de la fecha de la columna 'ts'.\n",
    "\n",
    "search=pd.read_csv('AB_Testing_boti_CLICKS.csv')\n",
    "search.drop_duplicates(['session_id', 'ts', 'id', 'message', 'mostrado', 'response_message'], inplace=True)\n",
    "search.ts=pd.to_datetime(search.ts)\n",
    "search['usuario']=search.session_id.str[:20]\n",
    "search=search[~search.usuario.isin(testers)]\n",
    "#clicks\n",
    "searchcl=search['RuleBuilder:'+search.mostrado==search.response_intent_id].drop_duplicates('id')\n",
    "search['fecha']=search.ts.dt.date"
   ]
  },
  {
   "cell_type": "code",
   "execution_count": 117,
   "id": "b73da79b",
   "metadata": {},
   "outputs": [
    {
     "data": {
      "text/html": [
       "<div>\n",
       "<style scoped>\n",
       "    .dataframe tbody tr th:only-of-type {\n",
       "        vertical-align: middle;\n",
       "    }\n",
       "\n",
       "    .dataframe tbody tr th {\n",
       "        vertical-align: top;\n",
       "    }\n",
       "\n",
       "    .dataframe thead th {\n",
       "        text-align: right;\n",
       "    }\n",
       "</style>\n",
       "<table border=\"1\" class=\"dataframe\">\n",
       "  <thead>\n",
       "    <tr style=\"text-align: right;\">\n",
       "      <th></th>\n",
       "      <th>ts</th>\n",
       "      <th>id</th>\n",
       "      <th>session_id</th>\n",
       "      <th>message_id</th>\n",
       "      <th>message</th>\n",
       "      <th>results_intent_name</th>\n",
       "      <th>results_intent_id</th>\n",
       "      <th>parent_intent_id</th>\n",
       "      <th>parent_intent_name</th>\n",
       "      <th>model_type</th>\n",
       "      <th>results_showable</th>\n",
       "      <th>results_score</th>\n",
       "      <th>rule_id</th>\n",
       "      <th>mostrado</th>\n",
       "      <th>mostrado_name</th>\n",
       "      <th>response_ts</th>\n",
       "      <th>response_message</th>\n",
       "      <th>response_intent_id</th>\n",
       "      <th>usuario</th>\n",
       "      <th>fecha</th>\n",
       "    </tr>\n",
       "  </thead>\n",
       "  <tbody>\n",
       "    <tr>\n",
       "      <th>0</th>\n",
       "      <td>2024-01-15 02:59:54.956</td>\n",
       "      <td>853d176b-0907-4b3b-bca2-3426d7246e24</td>\n",
       "      <td>CZERU7Y06S8EVX80KOSE_2024-01-15T02:57:23.768Z</td>\n",
       "      <td>5nD2GDNRQf5immaP3Mb0</td>\n",
       "      <td>Dijeron que deb completar el turno</td>\n",
       "      <td>LIC00CUX01 Apnea del sueño si</td>\n",
       "      <td>PLBWX5XYGQ2B3GP7IN8Q-5cvudaeeoj@b.m-1671029921047</td>\n",
       "      <td>NaN</td>\n",
       "      <td>NaN</td>\n",
       "      <td>NaN</td>\n",
       "      <td>False</td>\n",
       "      <td>52.8248</td>\n",
       "      <td>PLBWX5XYGQ2B3GP7IN8Q-6e5jiocf03@b.m-1688135541169</td>\n",
       "      <td>PLBWX5XYGQ2B3GP7IN8Q-5cvudaeeoj@b.m-1671029921047</td>\n",
       "      <td>LIC00CUX01 Apnea del sueño si</td>\n",
       "      <td>NaN</td>\n",
       "      <td>NaN</td>\n",
       "      <td>NaN</td>\n",
       "      <td>CZERU7Y06S8EVX80KOSE</td>\n",
       "      <td>2024-01-15</td>\n",
       "    </tr>\n",
       "    <tr>\n",
       "      <th>1</th>\n",
       "      <td>2024-01-15 02:59:54.956</td>\n",
       "      <td>853d176b-0907-4b3b-bca2-3426d7246e24</td>\n",
       "      <td>CZERU7Y06S8EVX80KOSE_2024-01-15T02:57:23.768Z</td>\n",
       "      <td>5nD2GDNRQf5immaP3Mb0</td>\n",
       "      <td>Dijeron que deb completar el turno</td>\n",
       "      <td>LIC00CUX01 Trasplante cardíaco si</td>\n",
       "      <td>PLBWX5XYGQ2B3GP7IN8Q-w5zrb8efcw@b.m-1671029230897</td>\n",
       "      <td>NaN</td>\n",
       "      <td>NaN</td>\n",
       "      <td>NaN</td>\n",
       "      <td>False</td>\n",
       "      <td>52.8248</td>\n",
       "      <td>PLBWX5XYGQ2B3GP7IN8Q-6e5jiocf03@b.m-1688135541169</td>\n",
       "      <td>PLBWX5XYGQ2B3GP7IN8Q-w5zrb8efcw@b.m-1671029230897</td>\n",
       "      <td>LIC00CUX01 Trasplante cardíaco si</td>\n",
       "      <td>NaN</td>\n",
       "      <td>NaN</td>\n",
       "      <td>NaN</td>\n",
       "      <td>CZERU7Y06S8EVX80KOSE</td>\n",
       "      <td>2024-01-15</td>\n",
       "    </tr>\n",
       "    <tr>\n",
       "      <th>2</th>\n",
       "      <td>2024-01-15 02:59:54.956</td>\n",
       "      <td>853d176b-0907-4b3b-bca2-3426d7246e24</td>\n",
       "      <td>CZERU7Y06S8EVX80KOSE_2024-01-15T02:57:23.768Z</td>\n",
       "      <td>5nD2GDNRQf5immaP3Mb0</td>\n",
       "      <td>Dijeron que deb completar el turno</td>\n",
       "      <td>LIC00CUX01 Stent / By pass Sí</td>\n",
       "      <td>PLBWX5XYGQ2B3GP7IN8Q-gec9gsjvgr@b.m-1671030071765</td>\n",
       "      <td>NaN</td>\n",
       "      <td>NaN</td>\n",
       "      <td>NaN</td>\n",
       "      <td>False</td>\n",
       "      <td>52.8248</td>\n",
       "      <td>PLBWX5XYGQ2B3GP7IN8Q-6e5jiocf03@b.m-1688135541169</td>\n",
       "      <td>PLBWX5XYGQ2B3GP7IN8Q-gec9gsjvgr@b.m-1671030071765</td>\n",
       "      <td>LIC00CUX01 Stent / By pass Sí</td>\n",
       "      <td>NaN</td>\n",
       "      <td>NaN</td>\n",
       "      <td>NaN</td>\n",
       "      <td>CZERU7Y06S8EVX80KOSE</td>\n",
       "      <td>2024-01-15</td>\n",
       "    </tr>\n",
       "    <tr>\n",
       "      <th>3</th>\n",
       "      <td>2024-01-15 02:59:54.956</td>\n",
       "      <td>853d176b-0907-4b3b-bca2-3426d7246e24</td>\n",
       "      <td>CZERU7Y06S8EVX80KOSE_2024-01-15T02:57:23.768Z</td>\n",
       "      <td>5nD2GDNRQf5immaP3Mb0</td>\n",
       "      <td>Dijeron que deb completar el turno</td>\n",
       "      <td>LIC00CUX01 Isquemia IAM si</td>\n",
       "      <td>PLBWX5XYGQ2B3GP7IN8Q-1ehgedwf4r@b.m-1671029566858</td>\n",
       "      <td>NaN</td>\n",
       "      <td>NaN</td>\n",
       "      <td>NaN</td>\n",
       "      <td>False</td>\n",
       "      <td>52.8248</td>\n",
       "      <td>PLBWX5XYGQ2B3GP7IN8Q-6e5jiocf03@b.m-1688135541169</td>\n",
       "      <td>PLBWX5XYGQ2B3GP7IN8Q-1ehgedwf4r@b.m-1671029566858</td>\n",
       "      <td>LIC00CUX01 Isquemia IAM si</td>\n",
       "      <td>NaN</td>\n",
       "      <td>NaN</td>\n",
       "      <td>NaN</td>\n",
       "      <td>CZERU7Y06S8EVX80KOSE</td>\n",
       "      <td>2024-01-15</td>\n",
       "    </tr>\n",
       "    <tr>\n",
       "      <th>4</th>\n",
       "      <td>2024-01-15 02:59:54.956</td>\n",
       "      <td>853d176b-0907-4b3b-bca2-3426d7246e24</td>\n",
       "      <td>CZERU7Y06S8EVX80KOSE_2024-01-15T02:57:23.768Z</td>\n",
       "      <td>5nD2GDNRQf5immaP3Mb0</td>\n",
       "      <td>Dijeron que deb completar el turno</td>\n",
       "      <td>LIC00CUX01 Amputación sí</td>\n",
       "      <td>PLBWX5XYGQ2B3GP7IN8Q-bitjj2ghck@b.m-1671029973142</td>\n",
       "      <td>NaN</td>\n",
       "      <td>NaN</td>\n",
       "      <td>NaN</td>\n",
       "      <td>False</td>\n",
       "      <td>52.8248</td>\n",
       "      <td>PLBWX5XYGQ2B3GP7IN8Q-6e5jiocf03@b.m-1688135541169</td>\n",
       "      <td>PLBWX5XYGQ2B3GP7IN8Q-bitjj2ghck@b.m-1671029973142</td>\n",
       "      <td>LIC00CUX01 Amputación sí</td>\n",
       "      <td>NaN</td>\n",
       "      <td>NaN</td>\n",
       "      <td>NaN</td>\n",
       "      <td>CZERU7Y06S8EVX80KOSE</td>\n",
       "      <td>2024-01-15</td>\n",
       "    </tr>\n",
       "  </tbody>\n",
       "</table>\n",
       "</div>"
      ],
      "text/plain": [
       "                       ts                                    id  \\\n",
       "0 2024-01-15 02:59:54.956  853d176b-0907-4b3b-bca2-3426d7246e24   \n",
       "1 2024-01-15 02:59:54.956  853d176b-0907-4b3b-bca2-3426d7246e24   \n",
       "2 2024-01-15 02:59:54.956  853d176b-0907-4b3b-bca2-3426d7246e24   \n",
       "3 2024-01-15 02:59:54.956  853d176b-0907-4b3b-bca2-3426d7246e24   \n",
       "4 2024-01-15 02:59:54.956  853d176b-0907-4b3b-bca2-3426d7246e24   \n",
       "\n",
       "                                      session_id            message_id  \\\n",
       "0  CZERU7Y06S8EVX80KOSE_2024-01-15T02:57:23.768Z  5nD2GDNRQf5immaP3Mb0   \n",
       "1  CZERU7Y06S8EVX80KOSE_2024-01-15T02:57:23.768Z  5nD2GDNRQf5immaP3Mb0   \n",
       "2  CZERU7Y06S8EVX80KOSE_2024-01-15T02:57:23.768Z  5nD2GDNRQf5immaP3Mb0   \n",
       "3  CZERU7Y06S8EVX80KOSE_2024-01-15T02:57:23.768Z  5nD2GDNRQf5immaP3Mb0   \n",
       "4  CZERU7Y06S8EVX80KOSE_2024-01-15T02:57:23.768Z  5nD2GDNRQf5immaP3Mb0   \n",
       "\n",
       "                              message                results_intent_name  \\\n",
       "0  Dijeron que deb completar el turno      LIC00CUX01 Apnea del sueño si   \n",
       "1  Dijeron que deb completar el turno  LIC00CUX01 Trasplante cardíaco si   \n",
       "2  Dijeron que deb completar el turno      LIC00CUX01 Stent / By pass Sí   \n",
       "3  Dijeron que deb completar el turno         LIC00CUX01 Isquemia IAM si   \n",
       "4  Dijeron que deb completar el turno           LIC00CUX01 Amputación sí   \n",
       "\n",
       "                                   results_intent_id parent_intent_id  \\\n",
       "0  PLBWX5XYGQ2B3GP7IN8Q-5cvudaeeoj@b.m-1671029921047              NaN   \n",
       "1  PLBWX5XYGQ2B3GP7IN8Q-w5zrb8efcw@b.m-1671029230897              NaN   \n",
       "2  PLBWX5XYGQ2B3GP7IN8Q-gec9gsjvgr@b.m-1671030071765              NaN   \n",
       "3  PLBWX5XYGQ2B3GP7IN8Q-1ehgedwf4r@b.m-1671029566858              NaN   \n",
       "4  PLBWX5XYGQ2B3GP7IN8Q-bitjj2ghck@b.m-1671029973142              NaN   \n",
       "\n",
       "  parent_intent_name  model_type results_showable  results_score  \\\n",
       "0                NaN         NaN            False        52.8248   \n",
       "1                NaN         NaN            False        52.8248   \n",
       "2                NaN         NaN            False        52.8248   \n",
       "3                NaN         NaN            False        52.8248   \n",
       "4                NaN         NaN            False        52.8248   \n",
       "\n",
       "                                             rule_id  \\\n",
       "0  PLBWX5XYGQ2B3GP7IN8Q-6e5jiocf03@b.m-1688135541169   \n",
       "1  PLBWX5XYGQ2B3GP7IN8Q-6e5jiocf03@b.m-1688135541169   \n",
       "2  PLBWX5XYGQ2B3GP7IN8Q-6e5jiocf03@b.m-1688135541169   \n",
       "3  PLBWX5XYGQ2B3GP7IN8Q-6e5jiocf03@b.m-1688135541169   \n",
       "4  PLBWX5XYGQ2B3GP7IN8Q-6e5jiocf03@b.m-1688135541169   \n",
       "\n",
       "                                            mostrado  \\\n",
       "0  PLBWX5XYGQ2B3GP7IN8Q-5cvudaeeoj@b.m-1671029921047   \n",
       "1  PLBWX5XYGQ2B3GP7IN8Q-w5zrb8efcw@b.m-1671029230897   \n",
       "2  PLBWX5XYGQ2B3GP7IN8Q-gec9gsjvgr@b.m-1671030071765   \n",
       "3  PLBWX5XYGQ2B3GP7IN8Q-1ehgedwf4r@b.m-1671029566858   \n",
       "4  PLBWX5XYGQ2B3GP7IN8Q-bitjj2ghck@b.m-1671029973142   \n",
       "\n",
       "                       mostrado_name response_ts response_message  \\\n",
       "0      LIC00CUX01 Apnea del sueño si         NaN              NaN   \n",
       "1  LIC00CUX01 Trasplante cardíaco si         NaN              NaN   \n",
       "2      LIC00CUX01 Stent / By pass Sí         NaN              NaN   \n",
       "3         LIC00CUX01 Isquemia IAM si         NaN              NaN   \n",
       "4           LIC00CUX01 Amputación sí         NaN              NaN   \n",
       "\n",
       "  response_intent_id               usuario       fecha  \n",
       "0                NaN  CZERU7Y06S8EVX80KOSE  2024-01-15  \n",
       "1                NaN  CZERU7Y06S8EVX80KOSE  2024-01-15  \n",
       "2                NaN  CZERU7Y06S8EVX80KOSE  2024-01-15  \n",
       "3                NaN  CZERU7Y06S8EVX80KOSE  2024-01-15  \n",
       "4                NaN  CZERU7Y06S8EVX80KOSE  2024-01-15  "
      ]
     },
     "execution_count": 117,
     "metadata": {},
     "output_type": "execute_result"
    }
   ],
   "source": [
    "search.head()\n"
   ]
  },
  {
   "cell_type": "code",
   "execution_count": 2,
   "id": "3a8da0fb-323c-4341-a154-67e67d709b74",
   "metadata": {},
   "outputs": [],
   "source": [
    "#buttons\n",
    "one=pd.read_csv('AB_Testing_boti_BOTONES.csv')"
   ]
  },
  {
   "cell_type": "code",
   "execution_count": 3,
   "id": "c1ef1ce1-6f0d-4947-b571-ae84dead82a1",
   "metadata": {
    "tags": []
   },
   "outputs": [
    {
     "ename": "NameError",
     "evalue": "name 'testers' is not defined",
     "output_type": "error",
     "traceback": [
      "\u001b[0;31m---------------------------------------------------------------------------\u001b[0m",
      "\u001b[0;31mNameError\u001b[0m                                 Traceback (most recent call last)",
      "Cell \u001b[0;32mIn[3], line 9\u001b[0m\n\u001b[1;32m      1\u001b[0m \u001b[38;5;66;03m# Procesamiento de datos en el DataFrame 'one':  ONESHOTS\u001b[39;00m\n\u001b[1;32m      2\u001b[0m \u001b[38;5;66;03m# 1. Crea una nueva columna 'usuario' extrayendo los primeros 20 caracteres de 'session_id'.\u001b[39;00m\n\u001b[1;32m      3\u001b[0m \u001b[38;5;66;03m# 2. Filtra las filas en 'one' donde el 'usuario' no está en la lista de 'testers'.\u001b[39;00m\n\u001b[1;32m      4\u001b[0m \u001b[38;5;66;03m# 3. Genera un subconjunto os con las filas en 'one' donde la condición 'one_shot' es verdadera y el tipo es 'oneShot' o 'oneShotSearch'.\u001b[39;00m\n\u001b[1;32m      5\u001b[0m \u001b[38;5;66;03m# 4. Convierte la columna 'ts' del subconjunto 'os' a formato de fecha y hora.\u001b[39;00m\n\u001b[1;32m      6\u001b[0m \u001b[38;5;66;03m# 5. Crea una nueva columna 'fecha' en el subconjunto 'os' que contiene solo la parte de la fecha de la columna 'ts'.\u001b[39;00m\n\u001b[1;32m      8\u001b[0m one[\u001b[38;5;124m'\u001b[39m\u001b[38;5;124musuario\u001b[39m\u001b[38;5;124m'\u001b[39m]\u001b[38;5;241m=\u001b[39mone\u001b[38;5;241m.\u001b[39msession_id\u001b[38;5;241m.\u001b[39mstr[:\u001b[38;5;241m20\u001b[39m]\n\u001b[0;32m----> 9\u001b[0m one\u001b[38;5;241m=\u001b[39mone[\u001b[38;5;241m~\u001b[39mone\u001b[38;5;241m.\u001b[39musuario\u001b[38;5;241m.\u001b[39misin(\u001b[43mtesters\u001b[49m)]\n\u001b[1;32m     10\u001b[0m os\u001b[38;5;241m=\u001b[39mone[np\u001b[38;5;241m.\u001b[39mlogical_and(one\u001b[38;5;241m.\u001b[39mone_shot\u001b[38;5;241m==\u001b[39m\u001b[38;5;28;01mTrue\u001b[39;00m, one\u001b[38;5;241m.\u001b[39mtype\u001b[38;5;241m.\u001b[39misin([\u001b[38;5;124m'\u001b[39m\u001b[38;5;124moneShot\u001b[39m\u001b[38;5;124m'\u001b[39m, \u001b[38;5;124m'\u001b[39m\u001b[38;5;124moneShotSearch\u001b[39m\u001b[38;5;124m'\u001b[39m]))]\n\u001b[1;32m     11\u001b[0m os\u001b[38;5;241m.\u001b[39mts\u001b[38;5;241m=\u001b[39mpd\u001b[38;5;241m.\u001b[39mto_datetime(os\u001b[38;5;241m.\u001b[39mts)\n",
      "\u001b[0;31mNameError\u001b[0m: name 'testers' is not defined"
     ]
    }
   ],
   "source": [
    "# Procesamiento de datos en el DataFrame 'one':  ONESHOTS\n",
    "# 1. Crea una nueva columna 'usuario' extrayendo los primeros 20 caracteres de 'session_id'.\n",
    "# 2. Filtra las filas en 'one' donde el 'usuario' no está en la lista de 'testers'.\n",
    "# 3. Genera un subconjunto os con las filas en 'one' donde la condición 'one_shot' es verdadera y el tipo es 'oneShot' o 'oneShotSearch'.\n",
    "# 4. Convierte la columna 'ts' del subconjunto 'os' a formato de fecha y hora.\n",
    "# 5. Crea una nueva columna 'fecha' en el subconjunto 'os' que contiene solo la parte de la fecha de la columna 'ts'.\n",
    "\n",
    "one['usuario']=one.session_id.str[:20]\n",
    "one=one[~one.usuario.isin(testers)]\n",
    "os=one[np.logical_and(one.one_shot==True, one.type.isin(['oneShot', 'oneShotSearch']))]\n",
    "os.ts=pd.to_datetime(os.ts)\n",
    "os['fecha']=os.ts.dt.date"
   ]
  },
  {
   "cell_type": "code",
   "execution_count": 120,
   "id": "e3b7f82a-b31c-45e5-9406-d077c173acb8",
   "metadata": {},
   "outputs": [],
   "source": [
    "mos=pd.read_csv('Actualizacion Lista Blanca - 2023 - Whitelist intents 17_07.csv')\n",
    "rules_mos=mos['Nombre de la intención'].str.strip().values"
   ]
  },
  {
   "cell_type": "markdown",
   "id": "5a94e322-0485-431c-a537-6615762ba059",
   "metadata": {
    "tags": []
   },
   "source": [
    "### transformaciones"
   ]
  },
  {
   "cell_type": "code",
   "execution_count": 121,
   "id": "b0674514-08b3-4ad3-9a54-d679a5d02387",
   "metadata": {},
   "outputs": [],
   "source": [
    "# sacamos mensajes seguidos de boti\n",
    "# Proceso de limpieza en el DataFrame 'mm1':\n",
    "# 1. Reinicia los índices del DataFrame 'mm1'.\n",
    "# 2. Identifica y crea una lista 'drop' con índices a eliminar donde 'msg_from' y 'session_id' son iguales en filas consecutivas.\n",
    "# 3. Elimina las filas identificadas en la lista 'drop' del DataFrame 'mm1'.\n",
    "# 4. Reinicia los índices del DataFrame 'mm1' después de la eliminación.\n",
    "\n",
    "mm1.reset_index(inplace=True, drop=True)\n",
    "drop=[i if mm1.loc[i].msg_from==mm1.loc[i+1].msg_from and mm1.loc[i].session_id==mm1.loc[i+1].session_id else None for i in mm1.index[:-1]]\n",
    "drop=list(set(drop))\n",
    "drop.remove(None)\n",
    "\n",
    "mm1.drop(drop, inplace=True)\n",
    "mm1.reset_index(inplace=True, drop=True)"
   ]
  },
  {
   "cell_type": "code",
   "execution_count": 122,
   "id": "ccf77c96",
   "metadata": {},
   "outputs": [
    {
     "data": {
      "text/html": [
       "<div>\n",
       "<style scoped>\n",
       "    .dataframe tbody tr th:only-of-type {\n",
       "        vertical-align: middle;\n",
       "    }\n",
       "\n",
       "    .dataframe tbody tr th {\n",
       "        vertical-align: top;\n",
       "    }\n",
       "\n",
       "    .dataframe thead th {\n",
       "        text-align: right;\n",
       "    }\n",
       "</style>\n",
       "<table border=\"1\" class=\"dataframe\">\n",
       "  <thead>\n",
       "    <tr style=\"text-align: right;\">\n",
       "      <th></th>\n",
       "      <th>session_id</th>\n",
       "      <th>id</th>\n",
       "      <th>creation_time</th>\n",
       "      <th>msg_from</th>\n",
       "      <th>message_type</th>\n",
       "      <th>message</th>\n",
       "      <th>rule_name</th>\n",
       "      <th>topic_path</th>\n",
       "      <th>original_user_message</th>\n",
       "      <th>max_score</th>\n",
       "      <th>vars_value</th>\n",
       "      <th>usuario</th>\n",
       "    </tr>\n",
       "  </thead>\n",
       "  <tbody>\n",
       "    <tr>\n",
       "      <th>0</th>\n",
       "      <td>001444JG8ZIO4XTEE5RQ_2024-01-14T19:16:57.862Z</td>\n",
       "      <td>CJV3KJJINXODX7WQVGXA</td>\n",
       "      <td>2024-01-14 19:16:58</td>\n",
       "      <td>user</td>\n",
       "      <td>Button-click</td>\n",
       "      <td>{\"button\":\"Sacar un turno\",\"entities\":\"{}\",\"originalMessage\":\"A\",\"intent\":\"RuleBuilder:PLBWX5XYGQ2B3GP7IN8Q-sg8b1bal2l@b.m-1676662006701\"}</td>\n",
       "      <td>NaN</td>\n",
       "      <td>NaN</td>\n",
       "      <td>NaN</td>\n",
       "      <td>NaN</td>\n",
       "      <td>25.0</td>\n",
       "      <td>001444JG8ZIO4XTEE5RQ</td>\n",
       "    </tr>\n",
       "    <tr>\n",
       "      <th>1</th>\n",
       "      <td>001444JG8ZIO4XTEE5RQ_2024-01-14T19:16:57.862Z</td>\n",
       "      <td>VZW1EIHDMNIBNNMU3BKI</td>\n",
       "      <td>2024-01-14 19:16:59</td>\n",
       "      <td>bot</td>\n",
       "      <td>Text</td>\n",
       "      <td>¿Tenés dudas sobre tus dosis? Elegí *‘Mi esquema’* y lo chequeamos. 😉</td>\n",
       "      <td>TUR01CUX06 Apertura</td>\n",
       "      <td>Turnos [TUR] / 01. SIGECI / 06. TUR01CUX06 - Turnera vacunación COVID</td>\n",
       "      <td>{\"button\":\"Sacar un turno\",\"entities\":\"{}\",\"originalMessage\":\"A\",\"intent\":\"RuleBuilder:PLBWX5XYGQ2B3GP7IN8Q-sg8b1bal2l@b.m-1676662006701\"}</td>\n",
       "      <td>NaN</td>\n",
       "      <td>25.0</td>\n",
       "      <td>001444JG8ZIO4XTEE5RQ</td>\n",
       "    </tr>\n",
       "    <tr>\n",
       "      <th>2</th>\n",
       "      <td>001444JG8ZIO4XTEE5RQ_2024-01-14T19:16:57.862Z</td>\n",
       "      <td>DWGQC5BSOWNEA1CII7SD</td>\n",
       "      <td>2024-01-14 19:17:17</td>\n",
       "      <td>user</td>\n",
       "      <td>Button-click</td>\n",
       "      <td>{\"button\":\"Mi esquema\",\"entities\":\"{\\\"entity\\\":{\\\"@class\\\":\\\"StringEntity\\\",\\\"value\\\":\\\"TWkgZXNxdWVtYQ==\\\"}}\",\"originalMessage\":\"D\",\"intent\":\"SOMETHING_ENCODED\"}</td>\n",
       "      <td>NaN</td>\n",
       "      <td>NaN</td>\n",
       "      <td>NaN</td>\n",
       "      <td>NaN</td>\n",
       "      <td>25.0</td>\n",
       "      <td>001444JG8ZIO4XTEE5RQ</td>\n",
       "    </tr>\n",
       "    <tr>\n",
       "      <th>3</th>\n",
       "      <td>001444JG8ZIO4XTEE5RQ_2024-01-14T19:16:57.862Z</td>\n",
       "      <td>836I73U1X4B3GEWC3JL7</td>\n",
       "      <td>2024-01-14 19:17:17</td>\n",
       "      <td>bot</td>\n",
       "      <td>Text</td>\n",
       "      <td>Los *refuerzos* de la vacuna contra el COVID-19 se dan *una vez por año*.</td>\n",
       "      <td>SA01CUX06  Mi esquema</td>\n",
       "      <td>Salud [SA] / 01. Vacunación COVID-19 / 06. SA01CUX06 - Vacunación COVID-19 💉</td>\n",
       "      <td>{\"button\":\"Mi esquema\",\"entities\":\"{\\\"entity\\\":{\\\"@class\\\":\\\"StringEntity\\\",\\\"value\\\":\\\"TWkgZXNxdWVtYQ==\\\"}}\",\"originalMessage\":\"D\",\"intent\":\"SOMETHING_ENCODED\"}</td>\n",
       "      <td>NaN</td>\n",
       "      <td>25.0</td>\n",
       "      <td>001444JG8ZIO4XTEE5RQ</td>\n",
       "    </tr>\n",
       "    <tr>\n",
       "      <th>4</th>\n",
       "      <td>001444JG8ZIO4XTEE5RQ_2024-01-14T19:16:57.862Z</td>\n",
       "      <td>GBZMYYI2DI2RHE236DXO</td>\n",
       "      <td>2024-01-14 19:19:17</td>\n",
       "      <td>user</td>\n",
       "      <td>Button-click</td>\n",
       "      <td>{\"button\":\"Sacar un turno\",\"entities\":\"{}\",\"originalMessage\":\"B\",\"intent\":\"RuleBuilder:PLBWX5XYGQ2B3GP7IN8Q-sg8b1bal2l@b.m-1676662006701\"}</td>\n",
       "      <td>NaN</td>\n",
       "      <td>NaN</td>\n",
       "      <td>NaN</td>\n",
       "      <td>NaN</td>\n",
       "      <td>25.0</td>\n",
       "      <td>001444JG8ZIO4XTEE5RQ</td>\n",
       "    </tr>\n",
       "  </tbody>\n",
       "</table>\n",
       "</div>"
      ],
      "text/plain": [
       "                                      session_id                    id  \\\n",
       "0  001444JG8ZIO4XTEE5RQ_2024-01-14T19:16:57.862Z  CJV3KJJINXODX7WQVGXA   \n",
       "1  001444JG8ZIO4XTEE5RQ_2024-01-14T19:16:57.862Z  VZW1EIHDMNIBNNMU3BKI   \n",
       "2  001444JG8ZIO4XTEE5RQ_2024-01-14T19:16:57.862Z  DWGQC5BSOWNEA1CII7SD   \n",
       "3  001444JG8ZIO4XTEE5RQ_2024-01-14T19:16:57.862Z  836I73U1X4B3GEWC3JL7   \n",
       "4  001444JG8ZIO4XTEE5RQ_2024-01-14T19:16:57.862Z  GBZMYYI2DI2RHE236DXO   \n",
       "\n",
       "        creation_time msg_from  message_type  \\\n",
       "0 2024-01-14 19:16:58     user  Button-click   \n",
       "1 2024-01-14 19:16:59      bot          Text   \n",
       "2 2024-01-14 19:17:17     user  Button-click   \n",
       "3 2024-01-14 19:17:17      bot          Text   \n",
       "4 2024-01-14 19:19:17     user  Button-click   \n",
       "\n",
       "                                                                                                                                                             message  \\\n",
       "0                         {\"button\":\"Sacar un turno\",\"entities\":\"{}\",\"originalMessage\":\"A\",\"intent\":\"RuleBuilder:PLBWX5XYGQ2B3GP7IN8Q-sg8b1bal2l@b.m-1676662006701\"}   \n",
       "1                                                                                              ¿Tenés dudas sobre tus dosis? Elegí *‘Mi esquema’* y lo chequeamos. 😉   \n",
       "2  {\"button\":\"Mi esquema\",\"entities\":\"{\\\"entity\\\":{\\\"@class\\\":\\\"StringEntity\\\",\\\"value\\\":\\\"TWkgZXNxdWVtYQ==\\\"}}\",\"originalMessage\":\"D\",\"intent\":\"SOMETHING_ENCODED\"}   \n",
       "3                                                                                          Los *refuerzos* de la vacuna contra el COVID-19 se dan *una vez por año*.   \n",
       "4                         {\"button\":\"Sacar un turno\",\"entities\":\"{}\",\"originalMessage\":\"B\",\"intent\":\"RuleBuilder:PLBWX5XYGQ2B3GP7IN8Q-sg8b1bal2l@b.m-1676662006701\"}   \n",
       "\n",
       "               rule_name  \\\n",
       "0                    NaN   \n",
       "1    TUR01CUX06 Apertura   \n",
       "2                    NaN   \n",
       "3  SA01CUX06  Mi esquema   \n",
       "4                    NaN   \n",
       "\n",
       "                                                                     topic_path  \\\n",
       "0                                                                           NaN   \n",
       "1         Turnos [TUR] / 01. SIGECI / 06. TUR01CUX06 - Turnera vacunación COVID   \n",
       "2                                                                           NaN   \n",
       "3  Salud [SA] / 01. Vacunación COVID-19 / 06. SA01CUX06 - Vacunación COVID-19 💉   \n",
       "4                                                                           NaN   \n",
       "\n",
       "                                                                                                                                               original_user_message  \\\n",
       "0                                                                                                                                                                NaN   \n",
       "1                         {\"button\":\"Sacar un turno\",\"entities\":\"{}\",\"originalMessage\":\"A\",\"intent\":\"RuleBuilder:PLBWX5XYGQ2B3GP7IN8Q-sg8b1bal2l@b.m-1676662006701\"}   \n",
       "2                                                                                                                                                                NaN   \n",
       "3  {\"button\":\"Mi esquema\",\"entities\":\"{\\\"entity\\\":{\\\"@class\\\":\\\"StringEntity\\\",\\\"value\\\":\\\"TWkgZXNxdWVtYQ==\\\"}}\",\"originalMessage\":\"D\",\"intent\":\"SOMETHING_ENCODED\"}   \n",
       "4                                                                                                                                                                NaN   \n",
       "\n",
       "   max_score  vars_value               usuario  \n",
       "0        NaN        25.0  001444JG8ZIO4XTEE5RQ  \n",
       "1        NaN        25.0  001444JG8ZIO4XTEE5RQ  \n",
       "2        NaN        25.0  001444JG8ZIO4XTEE5RQ  \n",
       "3        NaN        25.0  001444JG8ZIO4XTEE5RQ  \n",
       "4        NaN        25.0  001444JG8ZIO4XTEE5RQ  "
      ]
     },
     "execution_count": 122,
     "metadata": {},
     "output_type": "execute_result"
    }
   ],
   "source": [
    "mm1.head()"
   ]
  },
  {
   "cell_type": "code",
   "execution_count": 123,
   "id": "4ba46350-fc33-40da-972d-565fce93979a",
   "metadata": {},
   "outputs": [],
   "source": [
    "# sacamos mensajes seguidos de boti\n",
    "# Proceso de limpieza en el DataFrame 'mm2':\n",
    "# 1. Reinicia los índices del DataFrame 'mm2'.\n",
    "# 2. Identifica y crea una lista 'drop' con índices a eliminar donde 'msg_from' y 'session_id' son iguales en filas consecutivas.\n",
    "# 3. Elimina las filas identificadas en la lista 'drop' del DataFrame 'mm2'.\n",
    "# 4. Reinicia los índices del DataFrame 'mm2' después de la eliminación.\n",
    "\n",
    "mm2.reset_index(inplace=True, drop=True)\n",
    "drop=[i if mm2.loc[i].msg_from==mm2.loc[i+1].msg_from and mm2.loc[i].session_id==mm2.loc[i+1].session_id else None for i in mm2.index[:-1]]\n",
    "drop=list(set(drop))\n",
    "drop.remove(None)\n",
    "\n",
    "mm2.drop(drop, inplace=True)\n",
    "mm2.reset_index(inplace=True, drop=True)"
   ]
  },
  {
   "cell_type": "markdown",
   "id": "81aa6f66-9493-4fa3-a4d1-6f9e4310d991",
   "metadata": {
    "tags": []
   },
   "source": [
    "### modelo nuevo, primera instancia"
   ]
  },
  {
   "cell_type": "code",
   "execution_count": 124,
   "id": "ff2abd90-c3cf-49bd-8091-3e7f4520cd5f",
   "metadata": {
    "collapsed": true,
    "jupyter": {
     "outputs_hidden": true
    },
    "tags": []
   },
   "outputs": [],
   "source": [
    "# Análisis de respuestas por usuario en el DataFrame 'mm1':\n",
    "# 1. Filtra y estructura datos relevantes en el DataFrame 'mmtex1'.\n",
    "# 2. Realiza operaciones en DataFrames adicionales ('letra1', 'search1', 'os1', 'primera_instancia1', etc.).\n",
    "# 3. Combina y clasifica las respuestas en 'value1primera'.\n",
    "# 4. Calcula porcentajes de respuestas por categoría para cada usuario en 'respuestas_por_usuario'.\n",
    "# 5. Calcula promedios de porcentajes para distintas categorías en 'promedios1'.\n",
    "# 6. Almacena resultados finales en 'res_primera_instancia1'.\n",
    "\n",
    "\n",
    "mm=mm1.copy()\n",
    "mm.reset_index(inplace=True, drop=True)\n",
    "mmtex1=mm[np.logical_and(mm.msg_from=='user', mm.message_type=='Text')][['session_id', 'id', 'creation_time', 'msg_from', 'message_type', 'message', 'usuario']]\n",
    "mmtex1['rule_name']=[r if su==sb and f=='bot' else None for r, su, sb, f in zip(mm.loc[mmtex1.index+1].rule_name.values, mmtex1.session_id.values, mm.loc[mmtex1.index+1].session_id.values, mm.loc[mmtex1.index+1].msg_from.values)]\n",
    "letra1=mmtex1[mmtex1.rule_name=='No entendió letra no existente en WA']\n",
    "letra1.rename(columns={'id':'message_id'}, inplace=True)\n",
    "search1=search[search.session_id.isin(mm1.session_id.values)]\n",
    "os1=os[os.session_id.isin(mm1.session_id.values)]\n",
    "primera_instancia1=search[~search.message_id.isin(pd.concat([search1['RuleBuilder:'+search1.mostrado==search1.response_intent_id].message_id, os1.message_id]).values)].drop_duplicates('id')\n",
    "primera_instancia1 = primera_instancia1.rename(columns = {\"results_score\": \"score\"})\n",
    "ne1=primera_instancia1.groupby('id').max()[['session_id', 'message_id', 'score']]\n",
    "ne1=ne1[ne1.score<=5.36]\n",
    "primera_instancia1=primera_instancia1[~primera_instancia1.id.isin(ne1.index)]\n",
    "os1=os1.drop_duplicates('id')[['session_id', 'message_id']]\n",
    "click1=search1['RuleBuilder:'+search1.mostrado==search1.response_intent_id].drop_duplicates('id')[['session_id', 'message_id']]\n",
    "abandonos1=primera_instancia1[primera_instancia1.response_message.isna()][['session_id', 'message_id']]\n",
    "nada1=primera_instancia1[primera_instancia1.response_intent_id=='RuleBuilder:PLBWX5XYGQ2B3GP7IN8Q-alfafc@gmail.com-1536777380652'][['session_id', 'message_id']]\n",
    "texto1=primera_instancia1[np.logical_and(primera_instancia1.response_intent_id!='RuleBuilder:PLBWX5XYGQ2B3GP7IN8Q-alfafc@gmail.com-1536777380652', ~primera_instancia1.response_message.isna())][['session_id', 'message_id']]\n",
    "letra1=letra1[['session_id', 'message_id']]\n",
    "os1['categoria']='one'\n",
    "click1['categoria']='click'\n",
    "abandonos1['categoria']='abandono'\n",
    "nada1['categoria']='nada'\n",
    "texto1['categoria']='texto'\n",
    "ne1['categoria']='ne'\n",
    "letra1['categoria']='letra'\n",
    "value1primera=pd.concat([os1, click1, abandonos1, nada1, texto1, ne1, letra1])\n",
    "value1primera['usuario']=value1primera.session_id.str[:20]\n",
    "value1primera=value1primera[value1primera.usuario.isin(mm1.usuario.values)]\n",
    "\n",
    "respuestas_por_usuario=value1primera.groupby(['usuario','categoria'], as_index=False).count()[['usuario','categoria', 'message_id']].pivot_table('message_id', ['usuario'], 'categoria')\n",
    "respuestas_por_usuario.fillna(0, inplace=True)\n",
    "respuestas_por_usuario=respuestas_por_usuario.reset_index(drop=False).reindex(['usuario',  'one', 'click', 'texto', 'abandono', 'nada', 'ne', 'letra'], axis=1)\n",
    "respuestas_por_usuario['porcentaje_abandono']=[respuestas_por_usuario.loc[i].abandono / respuestas_por_usuario.loc[i][['one', 'click', 'texto', 'abandono', 'nada', 'ne', 'letra']].sum() for i in respuestas_por_usuario.index]\n",
    "respuestas_por_usuario['porcentaje_click']=[respuestas_por_usuario.loc[i].click / respuestas_por_usuario.loc[i][['one', 'click', 'texto', 'abandono', 'nada', 'ne', 'letra']].sum() for i in respuestas_por_usuario.index]\n",
    "respuestas_por_usuario['porcentaje_one']=[respuestas_por_usuario.loc[i].one / respuestas_por_usuario.loc[i][['one', 'click', 'texto', 'abandono', 'nada', 'ne', 'letra']].sum() for i in respuestas_por_usuario.index]\n",
    "respuestas_por_usuario['porcentaje_texto']=[respuestas_por_usuario.loc[i].texto / respuestas_por_usuario.loc[i][['one', 'click', 'texto', 'abandono', 'nada', 'ne', 'letra']].sum() for i in respuestas_por_usuario.index]\n",
    "respuestas_por_usuario['porcentaje_nada']=[respuestas_por_usuario.loc[i].nada / respuestas_por_usuario.loc[i][['one', 'click', 'texto', 'abandono', 'nada', 'ne', 'letra']].sum() for i in respuestas_por_usuario.index]\n",
    "respuestas_por_usuario['porcentaje_ne']=[respuestas_por_usuario.loc[i]['ne'] / respuestas_por_usuario.loc[i][['one', 'click', 'texto', 'abandono', 'nada', 'ne', 'letra']].sum() for i in respuestas_por_usuario.index]\n",
    "respuestas_por_usuario['porcentaje_letra']=[respuestas_por_usuario.loc[i]['letra'] / respuestas_por_usuario.loc[i][['one', 'click', 'texto', 'abandono', 'nada', 'ne', 'letra']].sum() for i in respuestas_por_usuario.index]\n",
    "res_primera_instancia1=respuestas_por_usuario.copy()\n",
    "\n",
    "promedios1={'abandonos': round(respuestas_por_usuario['porcentaje_abandono'].mean(), 3),     \n",
    "                  'click': round(respuestas_por_usuario['porcentaje_click'].mean(), 3),\n",
    "                  'one': round(respuestas_por_usuario['porcentaje_one'].mean(), 3),\n",
    "                  'texto': round(respuestas_por_usuario['porcentaje_texto'].mean(), 3),\n",
    "                  'nada': round(respuestas_por_usuario['porcentaje_nada'].mean(), 3),\n",
    "            'letra': round(respuestas_por_usuario['porcentaje_letra'].mean(), 3),\n",
    "           'ne': round(respuestas_por_usuario['porcentaje_ne'].mean(), 3)}"
   ]
  },
  {
   "cell_type": "code",
   "execution_count": 125,
   "id": "4457710f-c6de-46d9-8035-39e9564469b2",
   "metadata": {
    "collapsed": true,
    "jupyter": {
     "outputs_hidden": true
    },
    "tags": []
   },
   "outputs": [],
   "source": [
    "# Análisis de respuestas por usuario en el DataFrame 'mm2':\n",
    "# 1. Filtra y estructura datos relevantes en el DataFrame 'mmtex2'.\n",
    "# 2. Realiza operaciones en DataFrames adicionales ('letra2', 'search2', 'os2', 'primera_instancia2', etc.).\n",
    "# 3. Combina y clasifica las respuestas en 'value2primera'.\n",
    "# 4. Calcula porcentajes de respuestas por categoría para cada usuario en 'respuestas_por_usuario'.\n",
    "# 5. Calcula promedios de porcentajes para distintas categorías en 'promedios2'.\n",
    "# 6. Almacena resultados finales en 'res_primera_instancia2'.\n",
    "\n",
    "mm=mm2.copy()\n",
    "mm.reset_index(inplace=True, drop=True)\n",
    "mmtex2=mm[np.logical_and(mm.msg_from=='user', mm.message_type=='Text')][['session_id', 'id', 'creation_time', 'msg_from', 'message_type', 'message', 'usuario']]\n",
    "mmtex2['rule_name']=[r if su==sb and f=='bot' else None for r, su, sb, f in zip(mm.loc[mmtex2.index+1].rule_name.values, mmtex2.session_id.values, mm.loc[mmtex2.index+1].session_id.values, mm.loc[mmtex2.index+1].msg_from.values)]\n",
    "letra2=mmtex2[mmtex2.rule_name=='No entendió letra no existente en WA']\n",
    "letra2.rename(columns={'id':'message_id'}, inplace=True)\n",
    "search2=search[search.session_id.isin(mm2.session_id.values)]\n",
    "os2=os[os.session_id.isin(mm2.session_id.values)]\n",
    "primera_instancia2=search[~search.message_id.isin(pd.concat([search2['RuleBuilder:'+search2.mostrado==search2.response_intent_id].message_id, os2.message_id]).values)].drop_duplicates('id')\n",
    "primera_instancia2 = primera_instancia2.rename(columns = {\"results_score\": \"score\"})\n",
    "ne2=primera_instancia2.groupby('id').max()[['session_id', 'message_id', 'score']]\n",
    "ne2=ne2[ne2.score<=5.36]\n",
    "primera_instancia2=primera_instancia2[~primera_instancia2.id.isin(ne2.index)]\n",
    "os2=os2.drop_duplicates('id')[['session_id', 'message_id']]\n",
    "click2=search2['RuleBuilder:'+search2.mostrado==search2.response_intent_id].drop_duplicates('id')[['session_id', 'message_id']]\n",
    "abandonos2=primera_instancia2[primera_instancia2.response_message.isna()][['session_id', 'message_id']]\n",
    "nada2=primera_instancia2[primera_instancia2.response_intent_id=='RuleBuilder:PLBWX5XYGQ2B3GP7IN8Q-alfafc@gmail.com-1536777380652'][['session_id', 'message_id']]\n",
    "texto2=primera_instancia2[np.logical_and(primera_instancia2.response_intent_id!='RuleBuilder:PLBWX5XYGQ2B3GP7IN8Q-alfafc@gmail.com-1536777380652', ~primera_instancia2.response_message.isna())][['session_id', 'message_id']]\n",
    "letra2=letra2[['session_id', 'message_id']]\n",
    "os2['categoria']='one'\n",
    "click2['categoria']='click'\n",
    "abandonos2['categoria']='abandono'\n",
    "nada2['categoria']='nada'\n",
    "texto2['categoria']='texto'\n",
    "ne2['categoria']='ne'\n",
    "letra2['categoria']='letra'\n",
    "value2primera=pd.concat([os2, click2, abandonos2, nada2, texto2, ne2, letra2])\n",
    "value2primera['usuario']=value2primera.session_id.str[:20]\n",
    "value2primera=value2primera[value2primera.usuario.isin(mm2.usuario.values)]\n",
    "\n",
    "respuestas_por_usuario=value2primera.groupby(['usuario','categoria'], as_index=False).count()[['usuario','categoria', 'message_id']].pivot_table('message_id', ['usuario'], 'categoria')\n",
    "respuestas_por_usuario.fillna(0, inplace=True)\n",
    "respuestas_por_usuario=respuestas_por_usuario.reset_index(drop=False).reindex(['usuario',  'one', 'click', 'texto', 'abandono', 'nada', 'ne', 'letra'], axis=1)\n",
    "respuestas_por_usuario['porcentaje_abandono']=[respuestas_por_usuario.loc[i].abandono / respuestas_por_usuario.loc[i][['one', 'click', 'texto', 'abandono', 'nada', 'ne', 'letra']].sum() for i in respuestas_por_usuario.index]\n",
    "respuestas_por_usuario['porcentaje_click']=[respuestas_por_usuario.loc[i].click / respuestas_por_usuario.loc[i][['one', 'click', 'texto', 'abandono', 'nada', 'ne', 'letra']].sum() for i in respuestas_por_usuario.index]\n",
    "respuestas_por_usuario['porcentaje_one']=[respuestas_por_usuario.loc[i].one / respuestas_por_usuario.loc[i][['one', 'click', 'texto', 'abandono', 'nada', 'ne', 'letra']].sum() for i in respuestas_por_usuario.index]\n",
    "respuestas_por_usuario['porcentaje_texto']=[respuestas_por_usuario.loc[i].texto / respuestas_por_usuario.loc[i][['one', 'click', 'texto', 'abandono', 'nada', 'ne', 'letra']].sum() for i in respuestas_por_usuario.index]\n",
    "respuestas_por_usuario['porcentaje_nada']=[respuestas_por_usuario.loc[i].nada / respuestas_por_usuario.loc[i][['one', 'click', 'texto', 'abandono', 'nada', 'ne', 'letra']].sum() for i in respuestas_por_usuario.index]\n",
    "respuestas_por_usuario['porcentaje_ne']=[respuestas_por_usuario.loc[i]['ne'] / respuestas_por_usuario.loc[i][['one', 'click', 'texto', 'abandono', 'nada', 'ne', 'letra']].sum() for i in respuestas_por_usuario.index]\n",
    "respuestas_por_usuario['porcentaje_letra']=[respuestas_por_usuario.loc[i]['letra'] / respuestas_por_usuario.loc[i][['one', 'click', 'texto', 'abandono', 'nada', 'ne', 'letra']].sum() for i in respuestas_por_usuario.index]\n",
    "res_primera_instancia2=respuestas_por_usuario.copy()\n",
    "\n",
    "promedios2={'abandonos': round(respuestas_por_usuario['porcentaje_abandono'].mean(), 3),     \n",
    "                  'click': round(respuestas_por_usuario['porcentaje_click'].mean(), 3),\n",
    "                  'one': round(respuestas_por_usuario['porcentaje_one'].mean(), 3),\n",
    "                  'texto': round(respuestas_por_usuario['porcentaje_texto'].mean(), 3),\n",
    "                  'nada': round(respuestas_por_usuario['porcentaje_nada'].mean(), 3),\n",
    "            'letra': round(respuestas_por_usuario['porcentaje_letra'].mean(), 3),\n",
    "           'ne': round(respuestas_por_usuario['porcentaje_ne'].mean(), 3)}"
   ]
  },
  {
   "cell_type": "code",
   "execution_count": 126,
   "id": "6a36bcee-dd91-4914-a1b8-7b848157147e",
   "metadata": {},
   "outputs": [
    {
     "data": {
      "text/plain": [
       "{'abandonos': 0.055,\n",
       " 'click': 0.349,\n",
       " 'one': 0.383,\n",
       " 'texto': 0.059,\n",
       " 'nada': 0.064,\n",
       " 'letra': 0.076,\n",
       " 'ne': 0.015}"
      ]
     },
     "execution_count": 126,
     "metadata": {},
     "output_type": "execute_result"
    }
   ],
   "source": [
    "promedios1 #20%"
   ]
  },
  {
   "cell_type": "code",
   "execution_count": 127,
   "id": "0840c867-787a-4422-b650-f277a1ef003d",
   "metadata": {},
   "outputs": [
    {
     "data": {
      "text/plain": [
       "{'abandonos': 0.058,\n",
       " 'click': 0.432,\n",
       " 'one': 0.305,\n",
       " 'texto': 0.049,\n",
       " 'nada': 0.067,\n",
       " 'letra': 0.074,\n",
       " 'ne': 0.015}"
      ]
     },
     "execution_count": 127,
     "metadata": {},
     "output_type": "execute_result"
    }
   ],
   "source": [
    "promedios2 #80%"
   ]
  },
  {
   "cell_type": "raw",
   "id": "860c114f-062b-4f66-b6a7-bdfeef47ee0b",
   "metadata": {
    "jupyter": {
     "source_hidden": true
    },
    "tags": []
   },
   "source": [
    "promedios1 80%\n",
    "{'abandonos': 0.062,\n",
    " 'click': 0.44,\n",
    " 'one': 0.229,\n",
    " 'texto': 0.111,\n",
    " 'nada': 0.067,\n",
    " 'letra': 0.076,\n",
    " 'ne': 0.015}\n",
    "\n",
    "promedios2 20%\n",
    "{'abandonos': 0.001,\n",
    " 'click': 0.029,\n",
    " 'one': 0.757,\n",
    " 'texto': 0.008,\n",
    " 'nada': 0.003,\n",
    " 'letra': 0.2,\n",
    " 'ne': 0.002}"
   ]
  },
  {
   "cell_type": "code",
   "execution_count": 128,
   "id": "4d51a5ca-ee1d-4b58-9fe2-90098ef23dc3",
   "metadata": {},
   "outputs": [],
   "source": [
    "def categoria(m, t, r):\n",
    "    #mensaje, tipo de mensaje, rulename\n",
    "    try:\n",
    "        if t=='Button-click' and 'Cambiar de tema' in m:\n",
    "            return 'cambiar'\n",
    "        elif t=='Button-click' and r=='Menú show buttons':\n",
    "            return 'otros'\n",
    "        elif t=='Button-click' and 'No era nada de eso' in m:\n",
    "            return 'x'\n",
    "        elif t=='Button-click':\n",
    "            return 'boton'\n",
    "        elif re.match(r'^a$|^b$|^c$|^d$', m,  re.IGNORECASE) and r=='Infracciones * Apertura':\n",
    "            return 'boton'\n",
    "        elif re.match(r'^a$|^b$|^c$|^d$', m,  re.IGNORECASE) and r=='Busca donde está permitido estacionar':\n",
    "            return 'boton'\n",
    "        #elif m=='__image__' and r=='Denuncia Vial - Validación Vehículo':\n",
    "         #   return 'boton'\n",
    "        #elif re.match(r'[0-9]{7,8}', m) and r=='Licencia prorroga  > Consultar':\n",
    "         #   return 'boton'\n",
    "        elif re.match(r'(^x$)|(x?\\.? ?buscaba otra cosa)', m,  re.IGNORECASE):\n",
    "            return 'x'\n",
    "        else:\n",
    "            return 'texto'\n",
    "    except:\n",
    "        return 'otros'"
   ]
  },
  {
   "cell_type": "code",
   "execution_count": 129,
   "id": "b2848df6-3735-4d76-aea8-6a10e01ccf5e",
   "metadata": {},
   "outputs": [],
   "source": [
    "# Análisis de interacciones del usuario en el DataFrame 'mm1':\n",
    "# 1. Filtra y estructura datos relevantes para conversaciones con botones ('conv_cl').\n",
    "# 2. Crea un DataFrame 'conv' para conversaciones de un solo disparo.\n",
    "# 3. Calcula categorías ('categoria') y porcentajes ('per') de interacciones en 'conv'.\n",
    "# 4. Combina datos de 'conv_cl' y 'conv' en 'usuario1'.\n",
    "# 5. Calcula categorías y usuarios en 'usuario1'.\n",
    "# 6. Almacena resultados finales en 'usuario1'.\n",
    "\n",
    "mm=mm1.copy()\n",
    "mm.reset_index(inplace=True, drop=True)\n",
    "mmu=mm[mm.msg_from=='user']\n",
    "mmu.reset_index(inplace=True, drop=True)\n",
    "original=mmu[mmu.id.isin(searchcl.message_id.values)] \n",
    "boton=mmu.loc[original.index+1]\n",
    "respuesta=mmu.loc[original.index+2]\n",
    "conv_cl=pd.DataFrame(data={'session_id': original.session_id.values, 'creation_time': original.creation_time.values, 'original':original.message.values, \n",
    "                           'intent': mm.loc[mm[mm.id.isin(boton.id.values)].index+1].rule_name.values,\n",
    "                           'bot1_id': [m if v else None for m, v in zip(mm.loc[mm[mm.id.isin(boton.id.values)].index+1].id.values, original.session_id.values==mm.loc[mm[mm.id.isin(boton.id.values)].index+1].session_id.values)],\n",
    "                   'respuesta_intermedia': [m if v else None for m, v in zip(boton.message.values, original.session_id.values==boton.session_id.values)], \n",
    "                   'respuesta': [m if v else None for m, v in zip(respuesta.message.values, original.session_id.values==respuesta.session_id.values)],\n",
    "                    'respuesta_type': [m if v else None for m, v in zip(respuesta.message_type.values, original.session_id.values==respuesta.session_id.values)],\n",
    "                     'respuesta_rule': [m if v else None for m, v in zip(mm.loc[mm[mm.id.isin(respuesta.id.values)].index+1].rule_name.values, original.session_id.values==mm.loc[mm[mm.id.isin(respuesta.id.values)].index+1].session_id.values)]})\n",
    "\n",
    "\n",
    "mm=mm1.copy()\n",
    "mm.reset_index(inplace=True, drop=True)\n",
    "mmu=mm[mm.msg_from=='user']\n",
    "mmu.reset_index(inplace=True, drop=True)\n",
    "original=mmu[mmu.id.isin(os.message_id.values)]\n",
    "respuesta=mmu.loc[original.index+1]\n",
    "conv=pd.DataFrame(data={'session_id': original.session_id.values, 'creation_time': original.creation_time.values, 'original':original.message.values, \n",
    "                        'intent': mm.loc[mm[mm.id.isin(original.id.values)].index+1].rule_name.values,\n",
    "                        'bot1_id': [m if v else None for m, v in zip(mm.loc[mm[mm.id.isin(original.id.values)].index+1].id.values, original.session_id.values==mm.loc[mm[mm.id.isin(original.id.values)].index+1].session_id.values)],\n",
    "                   'respuesta': [m if v else None for m, v in zip(respuesta.message.values, original.session_id.values==respuesta.session_id.values)],\n",
    "                    'respuesta_type': [m if v else None for m, v in zip(respuesta.message_type.values, original.session_id.values==respuesta.session_id.values)],\n",
    "                     'respuesta_rule': [m if v else None for m, v in zip(mm.loc[mm[mm.id.isin(respuesta.id.values)].index+1].rule_name.values, original.session_id.values==respuesta.session_id.values)]})\n",
    "\n",
    "\n",
    "conv['categoria']=[categoria(m,t,r) if m is not None else 'abandono' for m,t,r in zip(conv.respuesta, conv.respuesta_type, conv.intent)]\n",
    "per=conv.groupby('categoria', as_index=False).count()[['categoria', 'bot1_id']]\n",
    "per['per']=per.bot1_id/per.bot1_id.sum()\n",
    "usuario1=pd.concat([conv_cl[['session_id', 'creation_time', 'original', 'intent', 'bot1_id', 'respuesta', 'respuesta_type', 'respuesta_rule']], conv])\n",
    "usuario1['categoria']=[categoria(m,t,r) if m is not None else 'abandono' for m,t,r in zip(usuario1.respuesta, usuario1.respuesta_type, usuario1.intent)]\n",
    "usuario1['usuario']=usuario1.session_id.str[:20]\n",
    "usuario1['id']=usuario1.bot1_id"
   ]
  },
  {
   "cell_type": "code",
   "execution_count": 130,
   "id": "db51be2a-f8a9-4391-bd47-a719fc2d4309",
   "metadata": {},
   "outputs": [],
   "source": [
    "# Análisis de interacciones del usuario en el DataFrame 'mm2':\n",
    "# 1. Filtra y estructura datos relevantes para conversaciones con botones ('conv_cl').\n",
    "# 2. Crea un DataFrame 'conv' para conversaciones de un solo disparo.\n",
    "# 3. Calcula categorías ('categoria') y porcentajes ('per') de interacciones en 'conv'.\n",
    "# 4. Combina datos de 'conv_cl' y 'conv' en 'usuario2'.\n",
    "# 5. Calcula categorías y usuarios en 'usuario2'.\n",
    "# 6. Almacena resultados finales en 'usuario2'.\n",
    "\n",
    "mm=mm2.copy()\n",
    "mm.reset_index(inplace=True, drop=True)\n",
    "mmu=mm[mm.msg_from=='user']\n",
    "mmu.reset_index(inplace=True, drop=True)\n",
    "original=mmu[mmu.id.isin(searchcl.message_id.values)] \n",
    "boton=mmu.loc[original.index+1]\n",
    "respuesta=mmu.loc[original.index+2]\n",
    "conv_cl=pd.DataFrame(data={'session_id': original.session_id.values, 'creation_time': original.creation_time.values, 'original':original.message.values, \n",
    "                           'intent': mm.loc[mm[mm.id.isin(boton.id.values)].index+1].rule_name.values,\n",
    "                           'bot1_id': [m if v else None for m, v in zip(mm.loc[mm[mm.id.isin(boton.id.values)].index+1].id.values, original.session_id.values==mm.loc[mm[mm.id.isin(boton.id.values)].index+1].session_id.values)],\n",
    "                   'respuesta_intermedia': [m if v else None for m, v in zip(boton.message.values, original.session_id.values==boton.session_id.values)], \n",
    "                   'respuesta': [m if v else None for m, v in zip(respuesta.message.values, original.session_id.values==respuesta.session_id.values)],\n",
    "                    'respuesta_type': [m if v else None for m, v in zip(respuesta.message_type.values, original.session_id.values==respuesta.session_id.values)],\n",
    "                     'respuesta_rule': [m if v else None for m, v in zip(mm.loc[mm[mm.id.isin(respuesta.id.values)].index+1].rule_name.values, original.session_id.values==mm.loc[mm[mm.id.isin(respuesta.id.values)].index+1].session_id.values)]})\n",
    "\n",
    "\n",
    "mm=mm2.copy()\n",
    "mm.reset_index(inplace=True, drop=True)\n",
    "mmu=mm[mm.msg_from=='user']\n",
    "mmu.reset_index(inplace=True, drop=True)\n",
    "original=mmu[mmu.id.isin(os.message_id.values)]\n",
    "respuesta=mmu.loc[original.index+1]\n",
    "conv=pd.DataFrame(data={'session_id': original.session_id.values, 'creation_time': original.creation_time.values, 'original':original.message.values, \n",
    "                        'intent': mm.loc[mm[mm.id.isin(original.id.values)].index+1].rule_name.values,\n",
    "                        'bot1_id': [m if v else None for m, v in zip(mm.loc[mm[mm.id.isin(original.id.values)].index+1].id.values, original.session_id.values==mm.loc[mm[mm.id.isin(original.id.values)].index+1].session_id.values)],\n",
    "                   'respuesta': [m if v else None for m, v in zip(respuesta.message.values, original.session_id.values==respuesta.session_id.values)],\n",
    "                    'respuesta_type': [m if v else None for m, v in zip(respuesta.message_type.values, original.session_id.values==respuesta.session_id.values)],\n",
    "                     'respuesta_rule': [m if v else None for m, v in zip(mm.loc[mm[mm.id.isin(respuesta.id.values)].index+1].rule_name.values, original.session_id.values==respuesta.session_id.values)]})\n",
    "\n",
    "\n",
    "conv['categoria']=[categoria(m,t,r) if m is not None else 'abandono' for m,t,r in zip(conv.respuesta, conv.respuesta_type, conv.intent)]\n",
    "per=conv.groupby('categoria', as_index=False).count()[['categoria', 'bot1_id']]\n",
    "per['per']=per.bot1_id/per.bot1_id.sum()\n",
    "usuario2=pd.concat([conv_cl[['session_id', 'creation_time', 'original', 'intent', 'bot1_id', 'respuesta', 'respuesta_type', 'respuesta_rule']], conv])\n",
    "usuario2['categoria']=[categoria(m,t,r) if m is not None else 'abandono' for m,t,r in zip(usuario2.respuesta, usuario2.respuesta_type, usuario2.intent)]\n",
    "usuario2['usuario']=usuario2.session_id.str[:20]\n",
    "usuario2['id']=usuario2.bot1_id"
   ]
  },
  {
   "cell_type": "raw",
   "id": "19144fc8-1fad-457e-a87f-1bdbf71c86c7",
   "metadata": {},
   "source": [
    "20%: usuario1\n",
    "80%: usuario2"
   ]
  },
  {
   "cell_type": "markdown",
   "id": "63922f71-c173-4ffb-8072-99ed79b82eba",
   "metadata": {
    "tags": []
   },
   "source": [
    "### resultados"
   ]
  },
  {
   "cell_type": "code",
   "execution_count": 131,
   "id": "890a03aa-1db7-41c7-bf84-43d8a76e2f02",
   "metadata": {
    "tags": []
   },
   "outputs": [],
   "source": [
    "# Análisis de resultados por usuario:\n",
    "# - Para cada usuario (usuario1 y usuario2):\n",
    "#   1. Calcula la frecuencia de respuestas por categoría ('abandono', 'boton', 'otros', 'texto', 'x', 'cambiar').\n",
    "#   2. Calcula porcentajes de respuestas por categoría para cada usuario.\n",
    "#   3. Almacena los resultados en un DataFrame ('respuestas_por_usuario') y en una lista de promedios ('promedios').\n",
    "\n",
    "resultados=[]\n",
    "promedios=[]\n",
    "for usuario in [usuario1, usuario2]:\n",
    "    respuestas_por_usuario=usuario.groupby(['usuario','categoria'], as_index=False).count()[['usuario','categoria', 'id']].pivot_table('id', ['usuario'], 'categoria')\n",
    "    respuestas_por_usuario.fillna(0, inplace=True)\n",
    "    respuestas_por_usuario=respuestas_por_usuario.reset_index(drop=False).reindex(['usuario', 'abandono', 'boton', 'otros', 'texto', 'x', 'cambiar'], axis=1)\n",
    "    respuestas_por_usuario['porcentaje_abandono']=[respuestas_por_usuario.loc[i].abandono / respuestas_por_usuario.loc[i][['abandono', 'boton', 'otros', 'texto', 'x',  'cambiar']].sum() for i in respuestas_por_usuario.index]\n",
    "    respuestas_por_usuario['porcentaje_boton']=[respuestas_por_usuario.loc[i].boton / respuestas_por_usuario.loc[i][['abandono', 'boton', 'otros', 'texto', 'x',  'cambiar']].sum() for i in respuestas_por_usuario.index]\n",
    "    respuestas_por_usuario['porcentaje_otros']=[respuestas_por_usuario.loc[i].otros / respuestas_por_usuario.loc[i][['abandono', 'boton', 'otros', 'texto', 'x',  'cambiar']].sum() for i in respuestas_por_usuario.index]\n",
    "    respuestas_por_usuario['porcentaje_texto']=[respuestas_por_usuario.loc[i].texto / respuestas_por_usuario.loc[i][['abandono', 'boton', 'otros', 'texto', 'x',  'cambiar']].sum() for i in respuestas_por_usuario.index]\n",
    "    respuestas_por_usuario['porcentaje_x']=[respuestas_por_usuario.loc[i].x / respuestas_por_usuario.loc[i][['abandono', 'boton', 'otros', 'texto', 'x',  'cambiar']].sum() for i in respuestas_por_usuario.index]\n",
    "    respuestas_por_usuario['porcentaje_cambiar']=[respuestas_por_usuario.loc[i].cambiar / respuestas_por_usuario.loc[i][['abandono', 'boton', 'otros', 'texto', 'x',  'cambiar']].sum() for i in respuestas_por_usuario.index]\n",
    "    resultados.append(respuestas_por_usuario)\n",
    "    promedios.append({'abandonos': round(respuestas_por_usuario['porcentaje_abandono'].mean(), 3),     \n",
    "                      'botones': round(respuestas_por_usuario['porcentaje_boton'].mean(), 3),\n",
    "                      'otros': round(respuestas_por_usuario['porcentaje_otros'].mean(), 3),\n",
    "                      'texto': round(respuestas_por_usuario['porcentaje_texto'].mean(), 3),\n",
    "                      'x': round(respuestas_por_usuario['porcentaje_x'].mean(), 3),\n",
    "                      'cambiar de tema': round(respuestas_por_usuario['porcentaje_cambiar'].mean(), 3)})"
   ]
  },
  {
   "cell_type": "code",
   "execution_count": 132,
   "id": "993b0ea0-7fde-4795-bba6-5d4fba4742fa",
   "metadata": {},
   "outputs": [
    {
     "data": {
      "text/html": [
       "<div>\n",
       "<style scoped>\n",
       "    .dataframe tbody tr th:only-of-type {\n",
       "        vertical-align: middle;\n",
       "    }\n",
       "\n",
       "    .dataframe tbody tr th {\n",
       "        vertical-align: top;\n",
       "    }\n",
       "\n",
       "    .dataframe thead th {\n",
       "        text-align: right;\n",
       "    }\n",
       "</style>\n",
       "<table border=\"1\" class=\"dataframe\">\n",
       "  <thead>\n",
       "    <tr style=\"text-align: right;\">\n",
       "      <th></th>\n",
       "      <th>abandonos</th>\n",
       "      <th>botones</th>\n",
       "      <th>texto</th>\n",
       "      <th>x</th>\n",
       "      <th>cambiar de tema</th>\n",
       "      <th>otros</th>\n",
       "    </tr>\n",
       "  </thead>\n",
       "  <tbody>\n",
       "    <tr>\n",
       "      <th>nuevo-con-oss</th>\n",
       "      <td>0.078</td>\n",
       "      <td>0.807</td>\n",
       "      <td>0.072</td>\n",
       "      <td>0.026</td>\n",
       "      <td>0.017</td>\n",
       "      <td>0.0</td>\n",
       "    </tr>\n",
       "    <tr>\n",
       "      <th>nuevo-sin-oss</th>\n",
       "      <td>0.077</td>\n",
       "      <td>0.814</td>\n",
       "      <td>0.067</td>\n",
       "      <td>0.025</td>\n",
       "      <td>0.016</td>\n",
       "      <td>0.0</td>\n",
       "    </tr>\n",
       "  </tbody>\n",
       "</table>\n",
       "</div>"
      ],
      "text/plain": [
       "               abandonos  botones  texto      x  cambiar de tema  otros\n",
       "nuevo-con-oss      0.078    0.807  0.072  0.026            0.017    0.0\n",
       "nuevo-sin-oss      0.077    0.814  0.067  0.025            0.016    0.0"
      ]
     },
     "execution_count": 132,
     "metadata": {},
     "output_type": "execute_result"
    }
   ],
   "source": [
    "pd.DataFrame(promedios, index=['nuevo-con-oss', 'nuevo-sin-oss'])[['abandonos', 'botones', 'texto', 'x', 'cambiar de tema', 'otros']]"
   ]
  },
  {
   "cell_type": "code",
   "execution_count": 133,
   "id": "023db938-f998-4bf0-8a35-525cc452cba5",
   "metadata": {},
   "outputs": [],
   "source": [
    "sin_oss1={k:v*100 for k,v in promedios2.items()} \n",
    "sin_oss2={k: (promedios2['click']+promedios2['one'])*v*100 for k, v in promedios[1].items()}\n",
    "con_oss1={k:v*100 for k,v in promedios1.items()} \n",
    "con_oss2={k: (promedios1['click']+promedios1['one'])*v*100 for k, v in promedios[0].items()}"
   ]
  },
  {
   "cell_type": "code",
   "execution_count": 134,
   "id": "f51cec01-4ff1-4cb6-90a3-5d33cc9e35c3",
   "metadata": {},
   "outputs": [
    {
     "data": {
      "text/plain": [
       "{'abandonos': 5.800000000000001,\n",
       " 'click': 43.2,\n",
       " 'one': 30.5,\n",
       " 'texto': 4.9,\n",
       " 'nada': 6.7,\n",
       " 'letra': 7.3999999999999995,\n",
       " 'ne': 1.5}"
      ]
     },
     "execution_count": 134,
     "metadata": {},
     "output_type": "execute_result"
    }
   ],
   "source": [
    "sin_oss1"
   ]
  },
  {
   "cell_type": "code",
   "execution_count": 135,
   "id": "1fbb0eaa-917c-4968-ad3f-1cc248f7b583",
   "metadata": {},
   "outputs": [
    {
     "data": {
      "text/plain": [
       "{'abandonos': 5.5,\n",
       " 'click': 34.9,\n",
       " 'one': 38.3,\n",
       " 'texto': 5.8999999999999995,\n",
       " 'nada': 6.4,\n",
       " 'letra': 7.6,\n",
       " 'ne': 1.5}"
      ]
     },
     "execution_count": 135,
     "metadata": {},
     "output_type": "execute_result"
    }
   ],
   "source": [
    "con_oss1"
   ]
  },
  {
   "cell_type": "code",
   "execution_count": 136,
   "id": "a9904464-7875-4513-ae06-312b952d36a8",
   "metadata": {},
   "outputs": [
    {
     "data": {
      "text/plain": [
       "{'abandonos': 5.6749,\n",
       " 'botones': 59.9918,\n",
       " 'otros': 0.0,\n",
       " 'texto': 4.9379,\n",
       " 'x': 1.8425,\n",
       " 'cambiar de tema': 1.1792}"
      ]
     },
     "execution_count": 136,
     "metadata": {},
     "output_type": "execute_result"
    }
   ],
   "source": [
    "sin_oss2"
   ]
  },
  {
   "cell_type": "code",
   "execution_count": 137,
   "id": "93a42ec4-c919-4c63-a888-f418949349b4",
   "metadata": {},
   "outputs": [
    {
     "data": {
      "text/plain": [
       "{'abandonos': 5.7096,\n",
       " 'botones': 59.0724,\n",
       " 'otros': 0.0,\n",
       " 'texto': 5.2703999999999995,\n",
       " 'x': 1.9032,\n",
       " 'cambiar de tema': 1.2444}"
      ]
     },
     "execution_count": 137,
     "metadata": {},
     "output_type": "execute_result"
    }
   ],
   "source": [
    "con_oss2"
   ]
  },
  {
   "cell_type": "code",
   "execution_count": 138,
   "id": "5bdad507-2cad-4c74-b2ce-cebb553eb8c9",
   "metadata": {
    "tags": []
   },
   "outputs": [
    {
     "data": {
      "text/plain": [
       "(15358, 78676)"
      ]
     },
     "execution_count": 138,
     "metadata": {},
     "output_type": "execute_result"
    }
   ],
   "source": [
    "(len(res_primera_instancia1.usuario.unique()), len(res_primera_instancia2.usuario.unique()))"
   ]
  },
  {
   "cell_type": "markdown",
   "id": "d990452f-bd7a-4837-a89f-e0b63044ee26",
   "metadata": {
    "tags": []
   },
   "source": [
    "### diferencias"
   ]
  },
  {
   "cell_type": "code",
   "execution_count": 139,
   "id": "6ea0075d-99a7-40b5-ad0d-5376df5c7216",
   "metadata": {},
   "outputs": [],
   "source": [
    "def difz(p1, p2, n1, n2):\n",
    "    # test estadístico, alfa=0,05\n",
    "    z=(p1-p2)/math.sqrt(p1*(1-p1)/n1+p2*(1-p2)/n2)\n",
    "    if z>1.96 or z<-1.96:\n",
    "        return ('*', z)\n",
    "    else:\n",
    "        return z\n"
   ]
  },
  {
   "cell_type": "code",
   "execution_count": 140,
   "id": "2b32094f-d619-488d-b76b-d46b73510446",
   "metadata": {},
   "outputs": [
    {
     "name": "stdout",
     "output_type": "stream",
     "text": [
      "mostrable / click+one\n",
      "1.2861030144505188\n",
      "ne\n",
      "0.0\n",
      "letra\n",
      "-0.8643240133513325\n",
      "texto\n",
      "('*', -5.023215280744504)\n",
      "abandonos\n",
      "0.9451329606674326\n",
      "nada de eso\n",
      "1.3648130727985113\n",
      "botones\n",
      "('*', 2.126038972748623)\n",
      "x\n",
      "-0.5103010872919994\n",
      "cambiar de tema\n",
      "-0.681628946478975\n",
      "otros\n",
      "nan\n"
     ]
    }
   ],
   "source": [
    "# Comparación de porcentajes normalizados entre dos conjuntos de datos ('sin_oss' y 'con_oss'):\n",
    "# - Para diferentes categorías de respuestas:\n",
    "#   1. Calcula porcentajes de respuestas para cada categoría.\n",
    "#   2. Utiliza la función 'difz' para calcular la diferencia normalizada entre porcentajes.\n",
    "#   3. Imprime los resultados para cada categoría ('mostrable / click+one', 'ne', 'letra', 'texto', 'abandonos', 'nada', 'botones', 'x', 'cambiar de tema', 'otros' si está presente).\n",
    "\n",
    "n1=res_primera_instancia1.usuario.nunique()\n",
    "n2=res_primera_instancia2.usuario.nunique()\n",
    "print('mostrable / click+one')\n",
    "p1=(sin_oss1['click']+sin_oss1['one'])/100\n",
    "p2=(con_oss1['click']+con_oss1['one'])/100\n",
    "print(difz(p1, p2, n1, n2))\n",
    "print('ne')\n",
    "p1=sin_oss1['ne']/100\n",
    "p2=con_oss1['ne']/100\n",
    "print(difz(p1, p2, n1, n2))\n",
    "print('letra')\n",
    "p1=sin_oss1['letra']/100\n",
    "p2=con_oss1['letra']/100\n",
    "print(difz(p1, p2, n1, n2))\n",
    "print('texto')\n",
    "p1=(sin_oss1['texto']+sin_oss2['texto'])/100\n",
    "p2=(con_oss1['texto']+con_oss2['texto'])/100\n",
    "print(difz(p1, p2, n1, n2))\n",
    "print('abandonos')\n",
    "p1=(sin_oss1['abandonos']+sin_oss2['abandonos'])/100\n",
    "p2=(con_oss1['abandonos']+con_oss2['abandonos'])/100\n",
    "print(difz(p1, p2, n1, n2))\n",
    "print('nada de eso')\n",
    "p1=sin_oss1['nada']/100\n",
    "p2=con_oss1['nada']/100\n",
    "print(difz(p1, p2, n1, n2))\n",
    "print('botones')\n",
    "p1=sin_oss2['botones']/100\n",
    "p2=con_oss2['botones']/100\n",
    "print(difz(p1, p2, n1, n2))\n",
    "print('x')\n",
    "p1=sin_oss2['x']/100\n",
    "p2=con_oss2['x']/100\n",
    "print(difz(p1, p2, n1, n2))\n",
    "print('cambiar de tema')\n",
    "p1=sin_oss2['cambiar de tema']/100\n",
    "p2=con_oss2['cambiar de tema']/100\n",
    "print(difz(p1, p2, n1, n2))\n",
    "try:\n",
    "    print('otros')\n",
    "    p1=sin_oss2['otros']/100\n",
    "    p2=con_oss2['otros']/100\n",
    "    print(difz(p1, p2, n1, n2))\n",
    "except:\n",
    "    pass"
   ]
  },
  {
   "cell_type": "markdown",
   "id": "7a6ac2b0-d4b7-4dc0-b243-683dd74a952e",
   "metadata": {},
   "source": [
    "### metricas generales"
   ]
  },
  {
   "cell_type": "code",
   "execution_count": 141,
   "id": "15facf96-ff8a-406e-9759-aef4f8e91c87",
   "metadata": {},
   "outputs": [
    {
     "data": {
      "text/html": [
       "<div>\n",
       "<style scoped>\n",
       "    .dataframe tbody tr th:only-of-type {\n",
       "        vertical-align: middle;\n",
       "    }\n",
       "\n",
       "    .dataframe tbody tr th {\n",
       "        vertical-align: top;\n",
       "    }\n",
       "\n",
       "    .dataframe thead th {\n",
       "        text-align: right;\n",
       "    }\n",
       "</style>\n",
       "<table border=\"1\" class=\"dataframe\">\n",
       "  <thead>\n",
       "    <tr style=\"text-align: right;\">\n",
       "      <th></th>\n",
       "      <th>df1</th>\n",
       "    </tr>\n",
       "  </thead>\n",
       "  <tbody>\n",
       "    <tr>\n",
       "      <th>cant_sesiones</th>\n",
       "      <td>1.935440e+05</td>\n",
       "    </tr>\n",
       "    <tr>\n",
       "      <th>cant_interacciones</th>\n",
       "      <td>1.471032e+06</td>\n",
       "    </tr>\n",
       "    <tr>\n",
       "      <th>interacciones_promedio</th>\n",
       "      <td>7.600504e+00</td>\n",
       "    </tr>\n",
       "    <tr>\n",
       "      <th>interacciones_mediana</th>\n",
       "      <td>4.000000e+00</td>\n",
       "    </tr>\n",
       "    <tr>\n",
       "      <th>interacciones_primer_cuartil</th>\n",
       "      <td>1.000000e+00</td>\n",
       "    </tr>\n",
       "    <tr>\n",
       "      <th>interacciones_tercer_cuartil</th>\n",
       "      <td>9.000000e+00</td>\n",
       "    </tr>\n",
       "    <tr>\n",
       "      <th>interacciones_p95</th>\n",
       "      <td>2.700000e+01</td>\n",
       "    </tr>\n",
       "    <tr>\n",
       "      <th>no_entendidos_pc</th>\n",
       "      <td>3.979551e-01</td>\n",
       "    </tr>\n",
       "    <tr>\n",
       "      <th>intents_repetidos_texto_promedio</th>\n",
       "      <td>1.333939e+00</td>\n",
       "    </tr>\n",
       "    <tr>\n",
       "      <th>intents_repetidos_texto_mediana</th>\n",
       "      <td>1.000000e+00</td>\n",
       "    </tr>\n",
       "    <tr>\n",
       "      <th>mensajes_repetidos_promedio</th>\n",
       "      <td>2.904121e+00</td>\n",
       "    </tr>\n",
       "    <tr>\n",
       "      <th>mensajes_repetidos_mediana</th>\n",
       "      <td>2.000000e+00</td>\n",
       "    </tr>\n",
       "    <tr>\n",
       "      <th>mensajes_repetidos_maximo_por_usuaruio_promedio</th>\n",
       "      <td>3.366752e+00</td>\n",
       "    </tr>\n",
       "    <tr>\n",
       "      <th>mensajes_repetidos_maximo_por_usuaruio_mediana</th>\n",
       "      <td>3.366752e+00</td>\n",
       "    </tr>\n",
       "  </tbody>\n",
       "</table>\n",
       "</div>"
      ],
      "text/plain": [
       "                                                          df1\n",
       "cant_sesiones                                    1.935440e+05\n",
       "cant_interacciones                               1.471032e+06\n",
       "interacciones_promedio                           7.600504e+00\n",
       "interacciones_mediana                            4.000000e+00\n",
       "interacciones_primer_cuartil                     1.000000e+00\n",
       "interacciones_tercer_cuartil                     9.000000e+00\n",
       "interacciones_p95                                2.700000e+01\n",
       "no_entendidos_pc                                 3.979551e-01\n",
       "intents_repetidos_texto_promedio                 1.333939e+00\n",
       "intents_repetidos_texto_mediana                  1.000000e+00\n",
       "mensajes_repetidos_promedio                      2.904121e+00\n",
       "mensajes_repetidos_mediana                       2.000000e+00\n",
       "mensajes_repetidos_maximo_por_usuaruio_promedio  3.366752e+00\n",
       "mensajes_repetidos_maximo_por_usuaruio_mediana   3.366752e+00"
      ]
     },
     "execution_count": 141,
     "metadata": {},
     "output_type": "execute_result"
    }
   ],
   "source": [
    "\"\"\"\n",
    "Este código realiza análisis y cálculos estadísticos sobre un conjunto de datos representado por el DataFrame `df1`.\n",
    "Realiza las siguientes acciones:\n",
    "1. Copia el DataFrame original `mm2` en `df1`.\n",
    "2. Identifica y elimina líneas que marcan el inicio y fin de interacciones con operadores.\n",
    "3. Comienza a guardar métricas sobre la interacción del usuario:\n",
    "   - Número total de sesiones y su duración.\n",
    "   - Promedio, mediana y percentiles de interacciones por sesión.\n",
    "   - Porcentaje de mensajes no entendidos.\n",
    "4. Analiza intenciones repetidas llegando por texto:\n",
    "   - Cálculo del promedio y mediana de intenciones repetidas.\n",
    "5. Examina mensajes repetidos del usuario por sesión:\n",
    "   - Cálculo del promedio y mediana de mensajes repetidos.\n",
    "   - Determina el máximo mensaje repetido por usuario en una sesión.\n",
    "6. Presenta los resultados en un DataFrame llamado `df`.\n",
    "Nota: Algunas líneas de código están comentadas (`#`) debido a la falta de información sobre ciertas variables (por ejemplo, `save_path`).\n",
    "\"\"\"\n",
    "\n",
    "df1 = mm2.copy()\n",
    "df1 = df1.rename(columns = {\"max_score\": \"score\"})\n",
    "# Elimina las lineas donde comienza y termina una interaccion con un operador\n",
    "\n",
    "op1 = df1.loc[df1.msg_from == 'operator'][['session_id','msg_from','creation_time']]\n",
    "\n",
    "max_sid1 = op1.groupby('session_id').creation_time.max()\n",
    "\n",
    "min_sid1 = op1.groupby('session_id').creation_time.min()\n",
    "\n",
    "sid1 = []\n",
    "for a in min_sid1.keys():\n",
    "    for b in range(op1[np.logical_and(op1['session_id'] == a,op1['creation_time'] == min_sid1[a])].index[0],\n",
    "                   op1[np.logical_and(op1['session_id'] == a,op1['creation_time'] == max_sid1[a])].index[0]+1):\n",
    "        sid1.append(b)\n",
    "        \n",
    "df1 = df1.drop(sid1)\n",
    "\n",
    "# Comienza a guardar metricas\n",
    "inter1 = df1[df1.msg_from == 'user'].groupby(['session_id']).msg_from.count().sort_values(ascending = False)\n",
    "data1 = {'cant_sesiones':len(inter1),\n",
    "         'cant_interacciones':inter1.sum(), \n",
    "         'interacciones_promedio':inter1.mean(), \n",
    "         'interacciones_mediana':inter1.median(), \n",
    "         'interacciones_primer_cuartil':inter1.quantile(0.25), \n",
    "         'interacciones_tercer_cuartil':inter1.quantile(0.75),\n",
    "         'interacciones_p95':inter1.quantile(0.95)\n",
    "        }\n",
    "\n",
    "ne1 = len(df1[df1.score < 5.36])/len(df1[np.logical_and(df1.msg_from == 'user', df1.message_type == 'Text')])*100\n",
    "\n",
    "data1['no_entendidos_pc'] = ne1\n",
    "\n",
    "#Cantidad de intenciones repetidas llegando por texto\n",
    "dfint1 = df1.dropna(subset=['original_user_message']).reset_index(drop = True)\n",
    "dfint1.creation_time = dfint1.loc[dfint1.msg_from.isin(['bot','user']),'creation_time'] \n",
    "int_texto1 = dfint1[~dfint1.original_user_message.str.contains('{')].drop_duplicates(['session_id','creation_time']).groupby(['session_id','rule_name'])[['rule_name']].count().rename(columns = {'rule_name':'cantidad'})\n",
    "int_texto1 = int_texto1.reset_index()\n",
    "data1['intents_repetidos_texto_promedio'] = int_texto1.cantidad.mean()\n",
    "data1['intents_repetidos_texto_mediana'] = int_texto1.cantidad.median()\n",
    "\n",
    "#Cantidad de mensajes repetidos del usuario por sesión\n",
    "df1.loc[np.logical_and(df1['msg_from'] == 'user', df1['message_type'] == 'Text'),'message'] = df1.loc[np.logical_and(df1['msg_from'] == 'user', df1['message_type'] == 'Text'),'message'].str.lower()\n",
    "messrep1 = (df1[np.logical_and(df1['msg_from'] == 'user', df1['message_type'].isin(['Text']))].groupby(['session_id','message']).message_type.count().sort_values(ascending = False)).reset_index().rename(columns = {'message_type':'count'})\n",
    "data1['mensajes_repetidos_promedio'] = messrep1[messrep1['count'] > 1]['count'].mean()\n",
    "data1['mensajes_repetidos_mediana'] = messrep1[messrep1['count'] > 1]['count'].median()\n",
    "\n",
    "#Maximo mensje repetido de cada usuario en una sesion\n",
    "usrmsgrep1 = messrep1.sort_values(by = ['session_id','count'], ascending = False).drop_duplicates('session_id', keep = 'first').sort_values('count', ascending = False)\n",
    "\n",
    "data1['mensajes_repetidos_maximo_por_usuaruio_promedio'] = usrmsgrep1[usrmsgrep1['count'] > 1]['count'].mean()\n",
    "data1['mensajes_repetidos_maximo_por_usuaruio_mediana'] = usrmsgrep1[usrmsgrep1['count'] > 1]['count'].mean()\n",
    "\n",
    "#resultados\n",
    "df = pd.DataFrame(index = data1.keys(), data= {'df1':data1.values()})\n",
    "#df.to_csv(f'{save_path}/indicadores_generales_{datetime.now()}.csv')\n",
    "df"
   ]
  },
  {
   "cell_type": "code",
   "execution_count": 142,
   "id": "dc5134a3-c50e-4689-be50-b1500cc3c28f",
   "metadata": {},
   "outputs": [
    {
     "data": {
      "text/html": [
       "<div>\n",
       "<style scoped>\n",
       "    .dataframe tbody tr th:only-of-type {\n",
       "        vertical-align: middle;\n",
       "    }\n",
       "\n",
       "    .dataframe tbody tr th {\n",
       "        vertical-align: top;\n",
       "    }\n",
       "\n",
       "    .dataframe thead th {\n",
       "        text-align: right;\n",
       "    }\n",
       "</style>\n",
       "<table border=\"1\" class=\"dataframe\">\n",
       "  <thead>\n",
       "    <tr style=\"text-align: right;\">\n",
       "      <th></th>\n",
       "      <th>df1</th>\n",
       "    </tr>\n",
       "  </thead>\n",
       "  <tbody>\n",
       "    <tr>\n",
       "      <th>cant_sesiones</th>\n",
       "      <td>1.935440e+05</td>\n",
       "    </tr>\n",
       "    <tr>\n",
       "      <th>cant_interacciones</th>\n",
       "      <td>1.471032e+06</td>\n",
       "    </tr>\n",
       "    <tr>\n",
       "      <th>interacciones_promedio</th>\n",
       "      <td>7.600504e+00</td>\n",
       "    </tr>\n",
       "    <tr>\n",
       "      <th>interacciones_mediana</th>\n",
       "      <td>4.000000e+00</td>\n",
       "    </tr>\n",
       "    <tr>\n",
       "      <th>interacciones_primer_cuartil</th>\n",
       "      <td>1.000000e+00</td>\n",
       "    </tr>\n",
       "    <tr>\n",
       "      <th>interacciones_tercer_cuartil</th>\n",
       "      <td>9.000000e+00</td>\n",
       "    </tr>\n",
       "    <tr>\n",
       "      <th>interacciones_p95</th>\n",
       "      <td>2.700000e+01</td>\n",
       "    </tr>\n",
       "    <tr>\n",
       "      <th>no_entendidos_pc</th>\n",
       "      <td>3.979551e-01</td>\n",
       "    </tr>\n",
       "    <tr>\n",
       "      <th>intents_repetidos_texto_promedio</th>\n",
       "      <td>1.333939e+00</td>\n",
       "    </tr>\n",
       "    <tr>\n",
       "      <th>intents_repetidos_texto_mediana</th>\n",
       "      <td>1.000000e+00</td>\n",
       "    </tr>\n",
       "    <tr>\n",
       "      <th>mensajes_repetidos_promedio</th>\n",
       "      <td>2.904121e+00</td>\n",
       "    </tr>\n",
       "    <tr>\n",
       "      <th>mensajes_repetidos_mediana</th>\n",
       "      <td>2.000000e+00</td>\n",
       "    </tr>\n",
       "    <tr>\n",
       "      <th>mensajes_repetidos_maximo_por_usuaruio_promedio</th>\n",
       "      <td>3.366752e+00</td>\n",
       "    </tr>\n",
       "    <tr>\n",
       "      <th>mensajes_repetidos_maximo_por_usuaruio_mediana</th>\n",
       "      <td>3.366752e+00</td>\n",
       "    </tr>\n",
       "  </tbody>\n",
       "</table>\n",
       "</div>"
      ],
      "text/plain": [
       "                                                          df1\n",
       "cant_sesiones                                    1.935440e+05\n",
       "cant_interacciones                               1.471032e+06\n",
       "interacciones_promedio                           7.600504e+00\n",
       "interacciones_mediana                            4.000000e+00\n",
       "interacciones_primer_cuartil                     1.000000e+00\n",
       "interacciones_tercer_cuartil                     9.000000e+00\n",
       "interacciones_p95                                2.700000e+01\n",
       "no_entendidos_pc                                 3.979551e-01\n",
       "intents_repetidos_texto_promedio                 1.333939e+00\n",
       "intents_repetidos_texto_mediana                  1.000000e+00\n",
       "mensajes_repetidos_promedio                      2.904121e+00\n",
       "mensajes_repetidos_mediana                       2.000000e+00\n",
       "mensajes_repetidos_maximo_por_usuaruio_promedio  3.366752e+00\n",
       "mensajes_repetidos_maximo_por_usuaruio_mediana   3.366752e+00"
      ]
     },
     "execution_count": 142,
     "metadata": {},
     "output_type": "execute_result"
    }
   ],
   "source": [
    "df"
   ]
  },
  {
   "cell_type": "code",
   "execution_count": null,
   "id": "a6af9217-2260-43dd-8069-69fade92ba56",
   "metadata": {},
   "outputs": [],
   "source": []
  },
  {
   "cell_type": "code",
   "execution_count": null,
   "id": "5a2a8c2d-003b-4ae3-8428-04b84d9cbc54",
   "metadata": {},
   "outputs": [],
   "source": []
  },
  {
   "cell_type": "markdown",
   "id": "41b2c6da-3dfe-4ad6-8ab9-8211d88678ad",
   "metadata": {
    "tags": []
   },
   "source": [
    "### dfs por categoría   RECONSTRUIR PARA LOS DF ACTUALES"
   ]
  },
  {
   "cell_type": "code",
   "execution_count": 143,
   "id": "57f7f5f0-68c7-463b-912c-4b0eb54599e0",
   "metadata": {},
   "outputs": [],
   "source": [
    "\"\"\"\n",
    "Este bloque de código realiza la exportación de datos filtrados en archivos CSV según la categoría de interacciones y el usuario asociado. A continuación, se detallan las acciones realizadas:\n",
    "1. Exporta las interacciones de la categoría 'x' del `usuario1` a un archivo CSV llamado 'original_xr.csv'.\n",
    "2. Exporta las interacciones de la categoría 'texto' del `usuario1` a un archivo CSV llamado 'original_textor.csv'.\n",
    "3. Exporta las interacciones de la categoría 'abandono' del `usuario1` a un archivo CSV llamado 'original_abandonor.csv'.\n",
    "4. Exporta las interacciones de la categoría 'abandono' del `usuario2` a un archivo CSV llamado 'nuevo_abandono2r.csv'.\n",
    "5. Exporta las interacciones de la categoría 'texto' del `usuario2` a un archivo CSV llamado 'nuevo_texto2r.csv'.\n",
    "6. Exporta las interacciones de la categoría 'otros' del `usuario2` a un archivo CSV llamado 'nuevo_errorr.csv'.\n",
    "7. Exporta las interacciones de la categoría 'x' del `usuario2` a un archivo CSV llamado 'nuevo_xr.csv'.\n",
    "8. Filtra las interacciones de `primera_instancia` según una condición y exporta los resultados a un archivo CSV llamado 'nuevo_nada_de_esor.csv'.\n",
    "9. Filtra las interacciones de `primera_instancia` según otra condición y exporta los resultados a un archivo CSV llamado 'nuevo_texto1r.csv'.\n",
    "10. Filtra las interacciones de `primera_instancia` según una condición de abandono y exporta los resultados a un archivo CSV llamado 'nuevo_abandono1.csv'.\n",
    "\"\"\"\n",
    "\n",
    "usuario1[usuario1.categoria=='x'][['session_id', 'creation_time', 'id', 'original']].to_csv('./entregables/original_xr.csv', index=False)\n",
    "\n",
    "usuario1[usuario1.categoria=='texto'][['session_id', 'creation_time', 'id', 'original']].to_csv('./entregables/original_textor.csv', index=False)\n",
    "\n",
    "usuario1[usuario1.categoria=='abandono'][['session_id', 'creation_time', 'id', 'original']].to_csv('./entregables/original_abandonor.csv', index=False)\n",
    "\n",
    "usuario2[usuario2.categoria=='abandono'][['session_id', 'creation_time', 'id', 'original']].to_csv('./entregables/nuevo_abandono2r.csv', index=False)\n",
    "\n",
    "usuario2[usuario2.categoria=='texto'][['session_id', 'creation_time', 'id', 'original']].to_csv('./entregables/nuevo_texto2r.csv', index=False)\n",
    "\n",
    "usuario2[usuario2.categoria=='otros'][['session_id', 'creation_time', 'id', 'original']].to_csv('./entregables/nuevo_errorr.csv', index=False)\n",
    "\n",
    "usuario2[usuario2.categoria=='x'][['session_id', 'creation_time', 'id', 'original']].to_csv('./entregables/nuevo_xr.csv', index=False)\n",
    "\n",
    "#PREGUNTARLE A CRIS SI ESTA OK QUE SEA primera_instancia1 y en el proximo 2, porque estaban sin numero y no exitian\n",
    "\n",
    "primera_instancia1[np.logical_and(primera_instancia1.response_intent_id=='RuleBuilder:PLBWX5XYGQ2B3GP7IN8Q-alfafc@gmail.com-1536777380652', primera_instancia1.usuario.isin(mm2.usuario.values) )][['session_id', 'ts','message_id',  'message']].to_csv('./entregables/nuevo_nada_de_esor.csv', index=False)\n",
    "\n",
    "nt1=primera_instancia1[np.logical_and(primera_instancia1.response_intent_id!='RuleBuilder:PLBWX5XYGQ2B3GP7IN8Q-alfafc@gmail.com-1536777380652', ~primera_instancia1.response_message.isna())]\n",
    "nt1=nt1[nt1.usuario.isin(mm2.usuario.values)]\n",
    "nt1[['session_id', 'ts', 'message_id', 'message']].to_csv('./entregables/nuevo_texto1r.csv', index=False)\n",
    "\n",
    "na1=primera_instancia1[primera_instancia1.response_message.isna()]\n",
    "na1[na1.usuario.isin(mm2.usuario.values)][['session_id', 'message_id', 'ts', 'message']].to_csv('./entregables/nuevo_abandono1.csv', index=False)"
   ]
  },
  {
   "cell_type": "code",
   "execution_count": 144,
   "id": "2cd08feb-25ce-40bc-84bd-042fe304d9f6",
   "metadata": {},
   "outputs": [],
   "source": [
    "\"\"\"\n",
    "Este bloque de código realiza la exportación de datos filtrados en archivos CSV según la categoría de interacciones y el usuario asociado. A continuación, se detallan las acciones realizadas:\n",
    "\n",
    "1. Exporta las interacciones de la categoría 'x' del `usuario1` a un archivo CSV llamado 'original_x.csv'.\n",
    "2. Exporta las interacciones de la categoría 'texto' del `usuario1` a un archivo CSV llamado 'original_texto.csv'.\n",
    "3. Exporta las interacciones de la categoría 'abandono' del `usuario1` a un archivo CSV llamado 'original_abandono.csv'.\n",
    "4. Exporta las interacciones de la categoría 'abandono' del `usuario2` a un archivo CSV llamado 'nuevo_abandono2.csv'.\n",
    "5. Exporta las interacciones de la categoría 'texto' del `usuario2` a un archivo CSV llamado 'nuevo_texto2.csv'.\n",
    "6. Exporta las interacciones de la categoría 'x' del `usuario2` a un archivo CSV llamado 'nuevo_x.csv'.\n",
    "7. Filtra las interacciones de `primera_instancia` según una condición y exporta los resultados a un archivo CSV llamado 'nuevo_nada_de_eso.csv'.\n",
    "8. Filtra las interacciones de `primera_instancia` según otra condición y exporta los resultados a un archivo CSV llamado 'nuevo_texto1.csv'.\n",
    "9. Filtra las interacciones de `primera_instancia` según una condición de abandono y exporta los resultados a un archivo CSV llamado 'nuevo_abandono1.csv'.\n",
    "\"\"\"\n",
    "\n",
    "usuario1[usuario1.categoria=='x'][['session_id', 'creation_time', 'original']].to_csv('./entregables/original_x.csv', index=False)\n",
    "\n",
    "usuario1[usuario1.categoria=='texto'][['session_id', 'creation_time',  'original']].to_csv('./entregables/original_texto.csv', index=False)\n",
    "\n",
    "usuario1[usuario1.categoria=='abandono'][['session_id', 'creation_time',  'original']].to_csv('./entregables/original_abandono.csv', index=False)\n",
    "\n",
    "usuario2[usuario2.categoria=='abandono'][['session_id', 'creation_time', 'original']].to_csv('./entregables/nuevo_abandono2.csv', index=False)\n",
    "\n",
    "usuario2[usuario2.categoria=='texto'][['session_id', 'creation_time', 'original']].to_csv('./entregables/nuevo_texto2.csv', index=False)\n",
    "\n",
    "usuario2[usuario2.categoria=='x'][['session_id', 'creation_time',  'original']].to_csv('./entregables/nuevo_x.csv', index=False)\n",
    "\n",
    "primera_instancia2[np.logical_and(primera_instancia2.response_intent_id=='RuleBuilder:PLBWX5XYGQ2B3GP7IN8Q-alfafc@gmail.com-1536777380652', primera_instancia2.usuario.isin(mm2.usuario.values) )][['session_id', 'ts', 'message']].to_csv('./entregables/nuevo_nada_de_eso.csv', index=False)\n",
    "\n",
    "nt1=primera_instancia2[np.logical_and(primera_instancia2.response_intent_id!='RuleBuilder:PLBWX5XYGQ2B3GP7IN8Q-alfafc@gmail.com-1536777380652', ~primera_instancia2.response_message.isna())]\n",
    "nt1=nt1[nt1.usuario.isin(mm2.usuario.values)]\n",
    "nt1[['session_id', 'ts',  'message']].to_csv('./entregables/nuevo_texto1.csv', index=False)\n",
    "\n",
    "na1=primera_instancia2[primera_instancia2.response_message.isna()]\n",
    "na1[na1.usuario.isin(mm2.usuario.values)][['session_id','ts', 'message']].to_csv('./entregables/nuevo_abandono1.csv', index=False)"
   ]
  },
  {
   "cell_type": "code",
   "execution_count": null,
   "id": "a846c438-527a-41d3-932c-b0dcd4ecb636",
   "metadata": {},
   "outputs": [],
   "source": []
  }
 ],
 "metadata": {
  "kernelspec": {
   "display_name": "Python 3 (ipykernel)",
   "language": "python",
   "name": "python3"
  },
  "language_info": {
   "codemirror_mode": {
    "name": "ipython",
    "version": 3
   },
   "file_extension": ".py",
   "mimetype": "text/x-python",
   "name": "python",
   "nbconvert_exporter": "python",
   "pygments_lexer": "ipython3",
   "version": "3.11.6"
  }
 },
 "nbformat": 4,
 "nbformat_minor": 5
}
